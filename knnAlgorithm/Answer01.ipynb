{
 "cells": [
  {
   "cell_type": "code",
   "execution_count": 1,
   "metadata": {
    "collapsed": true
   },
   "outputs": [],
   "source": [
    "import operator\n",
    "import pandas as pd\n",
    "import numpy as np\n",
    "\n",
    "data = pd.read_csv(\"data/disease_diagnosis.csv\", header=0)\n",
    "train_data = data[:10]\n",
    "test_data = data[10:]"
   ]
  },
  {
   "cell_type": "code",
   "execution_count": 2,
   "outputs": [],
   "source": [
    "def square_distance(v1, v2):\n",
    "    sum = 0\n",
    "    for i in range(len(v1)):\n",
    "        if v1[i] != v2[i]:\n",
    "            sum += 1\n",
    "    return sum\n",
    "\n",
    "\n",
    "def vote(ys):\n",
    "    vote_dict = {}\n",
    "    for y in ys:\n",
    "        y = y[0]\n",
    "        if y not in vote_dict.keys():\n",
    "            vote_dict[y] = 1\n",
    "        else:\n",
    "            vote_dict[y] += 1\n",
    "    sorted_vote_dict = sorted(vote_dict.items(), key=operator.itemgetter(1), reverse=True)\n",
    "    return sorted_vote_dict[0][0]  # 将已经记好的数进行一个自大而小的排列(则是一个降序排序），若reverse是false,则是自小而大.(升序排序）\n",
    "\n",
    "\n",
    "class KNN:\n",
    "    def __init__(self, k=3):\n",
    "        self.x = None\n",
    "        self.y = None\n",
    "        self.k = k\n",
    "\n",
    "    def fit(self, x, y):\n",
    "        self.x = x\n",
    "        self.y = y\n",
    "\n",
    "    def predict(self, x):\n",
    "        y_pred = []\n",
    "        for i in range(len(x)):\n",
    "            dist_arr = [square_distance(x[i], self.x[j]) for j in range(len(self.x))]\n",
    "            sorted_index = np.argsort(dist_arr)\n",
    "            top_k_index = sorted_index[:self.k]\n",
    "            y_pred.append(vote(ys=self.y[top_k_index]))  # 调用了vote函数，去进行分类\n",
    "        return np.array(y_pred)\n",
    "\n",
    "    def score(self, y_true=None, y_pred=None):\n",
    "        if y_true is None and y_pred is None:\n",
    "            y_pred = self.predict(self.x)\n",
    "            y_true = self.y\n",
    "        score = 0.0\n",
    "        for i in range(len(y_true)):\n",
    "            if y_true[i] == y_pred[i]:\n",
    "                score += 1\n",
    "        return score / len(y_true)"
   ],
   "metadata": {
    "collapsed": false
   }
  },
  {
   "cell_type": "code",
   "execution_count": 3,
   "outputs": [
    {
     "name": "stdout",
     "output_type": "stream",
     "text": [
      "[1 2]\n"
     ]
    }
   ],
   "source": [
    "X_column = ['喉咙痛', '发烧', '淋巴腺肿胀', '充血', '头痛']\n",
    "y_column = ['诊断结果']\n",
    "\n",
    "clf = KNN()\n",
    "clf.fit(train_data[X_column].to_numpy(), train_data[y_column].to_numpy())\n",
    "print(clf.predict(test_data[X_column].to_numpy()))"
   ],
   "metadata": {
    "collapsed": false
   }
  },
  {
   "cell_type": "code",
   "execution_count": null,
   "outputs": [],
   "source": [],
   "metadata": {
    "collapsed": false
   }
  }
 ],
 "metadata": {
  "kernelspec": {
   "display_name": "Python 3",
   "language": "python",
   "name": "python3"
  },
  "language_info": {
   "codemirror_mode": {
    "name": "ipython",
    "version": 2
   },
   "file_extension": ".py",
   "mimetype": "text/x-python",
   "name": "python",
   "nbconvert_exporter": "python",
   "pygments_lexer": "ipython2",
   "version": "2.7.6"
  }
 },
 "nbformat": 4,
 "nbformat_minor": 0
}
