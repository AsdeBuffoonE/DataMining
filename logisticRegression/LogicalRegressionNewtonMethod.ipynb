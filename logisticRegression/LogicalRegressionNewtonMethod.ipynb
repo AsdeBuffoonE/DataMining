{
 "cells": [
  {
   "cell_type": "code",
   "execution_count": 1,
   "metadata": {
    "collapsed": true,
    "pycharm": {
     "name": "#%%\n"
    }
   },
   "outputs": [],
   "source": [
    "import math\n",
    "from sklearn.model_selection import train_test_split\n",
    "import pandas as pd\n",
    "import numpy as np\n",
    "\n",
    "data = pd.read_csv('data/telcoPreprocess.csv')\n",
    "X_train, X_test, y_train, y_test = train_test_split(data.iloc[:, :41], data.iloc[:, 41:], test_size=0.3,\n",
    "                                                    random_state=42)\n",
    "X_train = X_train.to_numpy()\n",
    "X_test = X_test.to_numpy()\n",
    "y_train = y_train.to_numpy()\n",
    "y_test = y_test.to_numpy()"
   ]
  },
  {
   "cell_type": "code",
   "execution_count": 2,
   "outputs": [],
   "source": [
    "# sigmod函数\n",
    "def sigmoid(x):\n",
    "    return 1.0 / (1+math.exp(-x))\n",
    "\n",
    "\n",
    "# 计算hessian矩阵\n",
    "def computeHessianMatrix(data, hypothesis):\n",
    "    hessianMatrix = []\n",
    "    n = len(data)\n",
    "\n",
    "    for i in range(n):\n",
    "        row = []\n",
    "        for j in range(n):\n",
    "            row.append(-data[i]*data[j]*(1-hypothesis)*hypothesis)\n",
    "        hessianMatrix.append(row)\n",
    "    return hessianMatrix\n",
    "\n",
    "\n",
    "# 计算两个向量的点积\n",
    "def computeDotProduct(a, b):\n",
    "    if len(a) != len(b):\n",
    "        return False\n",
    "    n = len(a)\n",
    "    dotProduct = 0\n",
    "    for i in range(n):\n",
    "        dotProduct += a[i] * b[i]\n",
    "    return dotProduct\n",
    "\n",
    "\n",
    "# 计算两个向量的和\n",
    "def computeVectPlus(a, b):\n",
    "    if len(a) != len(b):\n",
    "        return False\n",
    "    n = len(a)\n",
    "    sum = []\n",
    "    for i in range(n):\n",
    "        sum.append(a[i]+b[i])\n",
    "    return sum\n",
    "\n",
    "\n",
    "# 计算某个向量的n倍\n",
    "def computeTimesVect(vect, n):\n",
    "    nTimesVect = []\n",
    "    for i in range(len(vect)):\n",
    "        nTimesVect.append(*(n * vect[i]))\n",
    "    return nTimesVect\n",
    "\n",
    "\n",
    "# 牛顿法\n",
    "def newtonMethod(dataMat, labelMat, iterNum=10):\n",
    "    m = len(dataMat)  # 训练集个数\n",
    "    n = len(dataMat[0])  # 数据特征纬度\n",
    "    theta = [0.0] * n\n",
    "\n",
    "    while (iterNum):\n",
    "        gradientSum = [0.0] * n\n",
    "        hessianMatSum = [[0.0] * n] * n\n",
    "        for i in range(m):\n",
    "            try:\n",
    "                hypothesis = sigmoid(computeDotProduct(dataMat[i], theta))\n",
    "            except:\n",
    "                continue\n",
    "            error = labelMat[i] - hypothesis\n",
    "            gradient = computeTimesVect(dataMat[i], error / m)\n",
    "            gradientSum = computeVectPlus(gradientSum, gradient)\n",
    "            hessian = computeHessianMatrix(dataMat[i], hypothesis / m)\n",
    "            for j in range(n):\n",
    "                hessianMatSum[j] = computeVectPlus(hessianMatSum[j], hessian[j])\n",
    "\n",
    "        # 计算hessian矩阵的逆矩阵有可能异常，如果捕获异常则忽略此轮迭代\n",
    "        try:\n",
    "            hessianMatInv = np.mat(hessianMatSum).I.tolist()\n",
    "        except:\n",
    "            continue\n",
    "        for k in range(n):\n",
    "            theta[k] -= computeDotProduct(hessianMatInv[k], gradientSum)\n",
    "\n",
    "        iterNum -= 1\n",
    "    return theta"
   ],
   "metadata": {
    "collapsed": false,
    "pycharm": {
     "name": "#%%\n"
    }
   }
  },
  {
   "cell_type": "code",
   "execution_count": 3,
   "outputs": [],
   "source": [
    "def Hypothesis(theta, x):\n",
    "    z = 0\n",
    "    for i in range(len(theta)):\n",
    "        z += x[i] * theta[i]\n",
    "    return sigmoid(z)\n",
    "\n",
    "\n",
    "def Declare_Winner(theta):\n",
    "    score = 0\n",
    "    length = len(X_test)\n",
    "    for i in range(length):\n",
    "        prediction = round(Hypothesis(X_test[i], theta))\n",
    "        answer = y_test[i]\n",
    "        if prediction == answer:\n",
    "            score += 1\n",
    "\n",
    "    my_score = float(score) / float(length)\n",
    "    print('Your score: ', my_score)"
   ],
   "metadata": {
    "collapsed": false,
    "pycharm": {
     "name": "#%%\n"
    }
   }
  },
  {
   "cell_type": "code",
   "execution_count": 4,
   "outputs": [
    {
     "name": "stdout",
     "output_type": "stream",
     "text": [
      "[-0.11071955169751357, -0.024310378174405543, 0.007080868787172948, 0.12945431254976425, -0.03569746122753176, -0.0006125351071733579, -0.019866709300612392, -0.05058989976041072, -0.4793373793078319, 0.21917474697641692, -0.062035337928069506, 2.6812957905196746, -0.4571590789211556, 0.08887267550077721, 0.18596956523576336, 0.0690221060284142, -0.12776802441229418, 0.017956540737877575, -0.026149197081969666, 0.028416048193072654, -0.0011939440136531057, 0.0013414426528306767, 0.0002509597382315725, -6.43539817349325e-05, -0.0004722746612622063, 0.41564199783195094, 0.3832100766656462, -0.4246146816940337, 0.5000862976847763, 0.008015432936708897, -0.4908744091600162, 0.5970367108620283, -0.5797814159931519, 0.351254545501901, -0.5760948722996599, 1.719111638609769, -2.337600352902394, 1.0001590610980846, -0.10303477161354878, 0.32950388069322967, -0.04627219860135797]\n",
      "Your score:  0.78\n"
     ]
    }
   ],
   "source": [
    "theta = newtonMethod(X_train, y_train)\n",
    "print(theta)\n",
    "Declare_Winner(theta)"
   ],
   "metadata": {
    "collapsed": false,
    "pycharm": {
     "name": "#%%\n"
    }
   }
  },
  {
   "cell_type": "code",
   "execution_count": 5,
   "outputs": [
    {
     "name": "stdout",
     "output_type": "stream",
     "text": [
      "[28.67751144749691, 5.306455057353073, -1.7038771885839044, 1.9323754235730366, -4.00544676956844, -0.4841745262033978, -17.258305934234194, -13.561428076171659, -322.4461119199384, -8.075894968543832, 8.073985713316048, 999.7283395852726, -107.22661326072357, -411.28888911536063, -627.743580857512, 67.76327211688455, -33.91969560869811, 3.102077768134201, 25.350453374336585, 27.734220587112848, -3.479012822865501, -0.9138255391342573, 0.41824685565876835, -1.5579297461873884, -0.15750500590993713, 126.78589027408053, 31.7143589138043, -71.6070425557785, 144.1176783478349, 20.201344086630094, -127.93062404062157, 40.01256565983115, -80.7004610126074, -53.015097226281384, -121.49732628750154, 704.6681724493399, -288.8745123230913, -207.15062541684833, -306.6464397135834, 147.9161764539983, -5.139109323846027]\n",
      "Your score:  0.79\n"
     ]
    }
   ],
   "source": [
    "from sklearn.preprocessing import Normalizer\n",
    "\n",
    "nor = Normalizer()\n",
    "X_train = nor.fit_transform(X_train)\n",
    "X_test = nor.transform(X_test)\n",
    "\n",
    "theta = newtonMethod(X_train, y_train)\n",
    "print(theta)\n",
    "Declare_Winner(theta)"
   ],
   "metadata": {
    "collapsed": false,
    "pycharm": {
     "name": "#%%\n"
    }
   }
  }
 ],
 "metadata": {
  "kernelspec": {
   "display_name": "Python 3",
   "language": "python",
   "name": "python3"
  },
  "language_info": {
   "codemirror_mode": {
    "name": "ipython",
    "version": 2
   },
   "file_extension": ".py",
   "mimetype": "text/x-python",
   "name": "python",
   "nbconvert_exporter": "python",
   "pygments_lexer": "ipython2",
   "version": "2.7.6"
  }
 },
 "nbformat": 4,
 "nbformat_minor": 0
}