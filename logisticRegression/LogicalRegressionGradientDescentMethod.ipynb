{
 "cells": [
  {
   "cell_type": "code",
   "execution_count": 2,
   "metadata": {
    "collapsed": true,
    "pycharm": {
     "name": "#%%\n"
    }
   },
   "outputs": [],
   "source": [
    "from sklearn.model_selection import train_test_split\n",
    "from matplotlib import pyplot as plt\n",
    "import pandas as pd\n",
    "import numpy as np\n",
    "\n",
    "data = pd.read_csv('data/telcoPreprocess.csv')\n",
    "X_train, X_test, y_train, y_test = train_test_split(data.iloc[:, :41], data.iloc[:, 41:], test_size=0.3,\n",
    "                                                    random_state=42)\n",
    "X_train = X_train.to_numpy()\n",
    "X_test = X_test.to_numpy()\n",
    "y_train = y_train.to_numpy()\n",
    "y_test = y_test.to_numpy()"
   ]
  },
  {
   "cell_type": "code",
   "execution_count": 3,
   "outputs": [],
   "source": [
    "# The sigmoid function\n",
    "def Sigmoid(z):\n",
    "    return float(1.0 / float((1.0 + np.exp(-1.0 * z))))\n",
    "\n",
    "\n",
    "def Hypothesis(theta, x):\n",
    "    z = 0\n",
    "    for i in range(len(theta)):\n",
    "        z += x[i] * theta[i]\n",
    "    return Sigmoid(z)\n",
    "\n",
    "\n",
    "def Cost_Function(X, Y, theta, m):\n",
    "    sumOfErrors = 0\n",
    "    for i in range(m):\n",
    "        xi = X[i]\n",
    "        hi = Hypothesis(theta, xi)\n",
    "        if Y[i] == 1:\n",
    "            error = Y[i] * np.log(hi)\n",
    "        elif Y[i] == 0:\n",
    "            error = (1 - Y[i]) * np.log(1 - hi)\n",
    "        sumOfErrors += error\n",
    "    const = -1 / m\n",
    "    J = const * sumOfErrors\n",
    "    print('cost is ', J)\n",
    "    return J\n",
    "\n",
    "\n",
    "def Cost_Function_Derivative(X, Y, theta, j, m, alpha):\n",
    "    sumErrors = 0\n",
    "    for i in range(m):\n",
    "        xi = X[i]\n",
    "        xij = xi[j]\n",
    "        hi = Hypothesis(theta, X[i])\n",
    "        error = (hi - Y[i]) * xij\n",
    "        sumErrors += error\n",
    "    m = len(Y)\n",
    "    constant = float(alpha) / float(m)\n",
    "    return constant * sumErrors\n",
    "\n",
    "\n",
    "def Gradient_Descent(X, Y, theta, m, alpha):\n",
    "    new_theta = []\n",
    "    for j in range(len(theta)):\n",
    "        CFDerivative = Cost_Function_Derivative(X, Y, theta, j, m, alpha)\n",
    "        new_theta_value = theta[j] - CFDerivative\n",
    "        new_theta.append(*new_theta_value)\n",
    "    return new_theta\n",
    "\n",
    "\n",
    "def Declare_Winner(theta):\n",
    "    score = 0\n",
    "    length = len(X_test)\n",
    "    for i in range(length):\n",
    "        prediction = round(Hypothesis(X_test[i], theta))\n",
    "        answer = y_test[i]\n",
    "        if prediction == answer:\n",
    "            score += 1\n",
    "\n",
    "    my_score = float(score) / float(length)\n",
    "    print('Your score: ', my_score)\n",
    "\n",
    "\n",
    "def Logistic_Regression(X, Y, alpha, theta, num_iters):\n",
    "    m = len(Y)\n",
    "    for x in range(num_iters):\n",
    "        new_theta = Gradient_Descent(X, Y, theta, m, alpha)\n",
    "        theta = new_theta\n",
    "        if x % 100 == 0:\n",
    "            Cost_Function(X, Y, theta, m)\n",
    "            print('theta ', theta)\n",
    "            print('cost is ', Cost_Function(X, Y, theta, m))\n",
    "    Declare_Winner(theta)"
   ],
   "metadata": {
    "collapsed": false,
    "pycharm": {
     "name": "#%%\n"
    }
   }
  },
  {
   "cell_type": "code",
   "execution_count": 4,
   "outputs": [
    {
     "name": "stderr",
     "output_type": "stream",
     "text": [
      "/var/folders/dp/wdk87p0d3ml1ysm634x3wlf80000gn/T/ipykernel_18365/548043755.py:3: RuntimeWarning: overflow encountered in exp\n",
      "  return float(1.0 / float((1.0 + np.exp(-1.0 * z))))\n",
      "/var/folders/dp/wdk87p0d3ml1ysm634x3wlf80000gn/T/ipykernel_18365/548043755.py:19: RuntimeWarning: divide by zero encountered in log\n",
      "  error = Y[i] * np.log(hi)\n"
     ]
    },
    {
     "name": "stdout",
     "output_type": "stream",
     "text": [
      "cost is  [inf]\n",
      "theta  [-0.045142857142857144, -1.105, -1.0264285714285715, -0.01092857142857143, -0.36300000000000004, -1.877857142857143, -0.044571428571428574, -0.3451428571428572, -0.002, -0.010571428571428572, -0.0485, -0.011000000000000001, -0.001142857142857143, -0.019642857142857146, -0.0038571428571428576, -0.35958571428571423, -0.3599107142857143, -0.07505357142857141, -0.3883571428571429, -0.16714285714285723, -20.57807142857143, -18.079353571428566, -8.047057142857144, -20.524482142857146, -10.32152500000001, -0.009928571428571429, -0.0033571428571428576, -0.0035714285714285718, -0.0018571428571428573, -0.011285714285714286, -0.012214285714285716, -0.011142857142857144, -0.01242857142857143, -0.0022142857142857146, -0.05704466221428569, -0.07078040642857164, -0.07749263599999988, -0.06055272549999999, -0.07749761564285705, -0.08730615400000002, -0.05335714285714286]\n",
      "cost is  [inf]\n",
      "cost is  [inf]\n",
      "Your score:  0.7066666666666667\n"
     ]
    }
   ],
   "source": [
    "initial_theta = np.zeros(41)\n",
    "alpha = 0.1\n",
    "iterations = 100\n",
    "Logistic_Regression(X_train, y_train, alpha, initial_theta, iterations)"
   ],
   "metadata": {
    "collapsed": false,
    "pycharm": {
     "name": "#%%\n"
    }
   }
  },
  {
   "cell_type": "code",
   "execution_count": 5,
   "outputs": [
    {
     "name": "stdout",
     "output_type": "stream",
     "text": [
      "cost is  [0.69018027]\n",
      "theta  [-3.407973036875108e-05, -0.001032459295921612, -0.001116224114430285, -8.859933295005824e-06, -0.00035430229564891455, -0.001484251490585776, -2.2955426683294284e-05, -0.0003495323468604203, -3.997088187044725e-06, -1.2068305461521896e-05, -4.5823748872742624e-05, -6.26151039711499e-06, 1.8820575323067696e-05, -1.5947434493306783e-05, 2.2693860561120875e-06, -0.000261890770069983, -0.00022308272177251596, 0.000499244769385549, -0.00023445025547089577, 5.026350866014745e-05, -0.011433509315587878, -0.0074368900554041585, -0.0007215887714395902, -0.010044791394509, -0.002362849748626661, -2.0436076800624265e-06, 3.8053946008348813e-06, 1.463473664865382e-06, 1.3723230939179583e-05, -9.79552091354375e-06, -1.1113848527422505e-05, -7.357813159037622e-06, -1.2968274451770941e-05, 1.0217714393082516e-05, -5.8174699971850836e-05, -6.682794563209203e-05, -7.954761091165937e-05, -5.40309995266836e-05, -7.499398217346385e-05, -7.840365978190961e-05, -4.08691650108449e-05]\n",
      "cost is  [0.69018027]\n",
      "cost is  [0.69018027]\n",
      "Your score:  0.7566666666666667\n"
     ]
    }
   ],
   "source": [
    "from sklearn.preprocessing import Normalizer\n",
    "\n",
    "nor = Normalizer()\n",
    "X_train = nor.fit_transform(X_train)\n",
    "X_test = nor.transform(X_test)\n",
    "\n",
    "Logistic_Regression(X_train, y_train, alpha, initial_theta, iterations)"
   ],
   "metadata": {
    "collapsed": false,
    "pycharm": {
     "name": "#%%\n"
    }
   }
  },
  {
   "cell_type": "code",
   "execution_count": 5,
   "outputs": [],
   "source": [],
   "metadata": {
    "collapsed": false,
    "pycharm": {
     "name": "#%%\n"
    }
   }
  }
 ],
 "metadata": {
  "kernelspec": {
   "display_name": "Python 3",
   "language": "python",
   "name": "python3"
  },
  "language_info": {
   "codemirror_mode": {
    "name": "ipython",
    "version": 2
   },
   "file_extension": ".py",
   "mimetype": "text/x-python",
   "name": "python",
   "nbconvert_exporter": "python",
   "pygments_lexer": "ipython2",
   "version": "2.7.6"
  }
 },
 "nbformat": 4,
 "nbformat_minor": 0
}