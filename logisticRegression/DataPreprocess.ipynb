{
 "cells": [
  {
   "cell_type": "code",
   "execution_count": 15,
   "metadata": {
    "collapsed": true,
    "pycharm": {
     "name": "#%%\n"
    }
   },
   "outputs": [
    {
     "data": {
      "text/plain": "   region  tenure  age  marital  address  income  ed  employ  retire  gender  \\\n0       2      13   44        1        9    64.0   4       5     0.0       0   \n1       3      11   33        1        7   136.0   5       5     0.0       0   \n2       3      68   52        1       24   116.0   1      29     0.0       1   \n3       2      33   33        0       12    33.0   2       0     0.0       1   \n4       2      23   30        1        9    30.0   1       2     0.0       0   \n\n   ...  confer  ebill   loglong   logtoll  logequi   logcard   logwire  \\\n0  ...       0      0  1.308333       NaN      NaN  2.014903       NaN   \n1  ...       1      0  1.481605  3.032546      NaN  2.724580  3.575151   \n2  ...       1      0  2.898671  2.890372      NaN  3.409496       NaN   \n3  ...       0      0  2.246015       NaN      NaN       NaN       NaN   \n4  ...       1      0  1.840550       NaN      NaN       NaN       NaN   \n\n      lninc  custcat  churn  \n0  4.158883        1      1  \n1  4.912655        4      1  \n2  4.753590        3      0  \n3  3.496508        1      1  \n4  3.401197        3      0  \n\n[5 rows x 42 columns]",
      "text/html": "<div>\n<style scoped>\n    .dataframe tbody tr th:only-of-type {\n        vertical-align: middle;\n    }\n\n    .dataframe tbody tr th {\n        vertical-align: top;\n    }\n\n    .dataframe thead th {\n        text-align: right;\n    }\n</style>\n<table border=\"1\" class=\"dataframe\">\n  <thead>\n    <tr style=\"text-align: right;\">\n      <th></th>\n      <th>region</th>\n      <th>tenure</th>\n      <th>age</th>\n      <th>marital</th>\n      <th>address</th>\n      <th>income</th>\n      <th>ed</th>\n      <th>employ</th>\n      <th>retire</th>\n      <th>gender</th>\n      <th>...</th>\n      <th>confer</th>\n      <th>ebill</th>\n      <th>loglong</th>\n      <th>logtoll</th>\n      <th>logequi</th>\n      <th>logcard</th>\n      <th>logwire</th>\n      <th>lninc</th>\n      <th>custcat</th>\n      <th>churn</th>\n    </tr>\n  </thead>\n  <tbody>\n    <tr>\n      <th>0</th>\n      <td>2</td>\n      <td>13</td>\n      <td>44</td>\n      <td>1</td>\n      <td>9</td>\n      <td>64.0</td>\n      <td>4</td>\n      <td>5</td>\n      <td>0.0</td>\n      <td>0</td>\n      <td>...</td>\n      <td>0</td>\n      <td>0</td>\n      <td>1.308333</td>\n      <td>NaN</td>\n      <td>NaN</td>\n      <td>2.014903</td>\n      <td>NaN</td>\n      <td>4.158883</td>\n      <td>1</td>\n      <td>1</td>\n    </tr>\n    <tr>\n      <th>1</th>\n      <td>3</td>\n      <td>11</td>\n      <td>33</td>\n      <td>1</td>\n      <td>7</td>\n      <td>136.0</td>\n      <td>5</td>\n      <td>5</td>\n      <td>0.0</td>\n      <td>0</td>\n      <td>...</td>\n      <td>1</td>\n      <td>0</td>\n      <td>1.481605</td>\n      <td>3.032546</td>\n      <td>NaN</td>\n      <td>2.724580</td>\n      <td>3.575151</td>\n      <td>4.912655</td>\n      <td>4</td>\n      <td>1</td>\n    </tr>\n    <tr>\n      <th>2</th>\n      <td>3</td>\n      <td>68</td>\n      <td>52</td>\n      <td>1</td>\n      <td>24</td>\n      <td>116.0</td>\n      <td>1</td>\n      <td>29</td>\n      <td>0.0</td>\n      <td>1</td>\n      <td>...</td>\n      <td>1</td>\n      <td>0</td>\n      <td>2.898671</td>\n      <td>2.890372</td>\n      <td>NaN</td>\n      <td>3.409496</td>\n      <td>NaN</td>\n      <td>4.753590</td>\n      <td>3</td>\n      <td>0</td>\n    </tr>\n    <tr>\n      <th>3</th>\n      <td>2</td>\n      <td>33</td>\n      <td>33</td>\n      <td>0</td>\n      <td>12</td>\n      <td>33.0</td>\n      <td>2</td>\n      <td>0</td>\n      <td>0.0</td>\n      <td>1</td>\n      <td>...</td>\n      <td>0</td>\n      <td>0</td>\n      <td>2.246015</td>\n      <td>NaN</td>\n      <td>NaN</td>\n      <td>NaN</td>\n      <td>NaN</td>\n      <td>3.496508</td>\n      <td>1</td>\n      <td>1</td>\n    </tr>\n    <tr>\n      <th>4</th>\n      <td>2</td>\n      <td>23</td>\n      <td>30</td>\n      <td>1</td>\n      <td>9</td>\n      <td>30.0</td>\n      <td>1</td>\n      <td>2</td>\n      <td>0.0</td>\n      <td>0</td>\n      <td>...</td>\n      <td>1</td>\n      <td>0</td>\n      <td>1.840550</td>\n      <td>NaN</td>\n      <td>NaN</td>\n      <td>NaN</td>\n      <td>NaN</td>\n      <td>3.401197</td>\n      <td>3</td>\n      <td>0</td>\n    </tr>\n  </tbody>\n</table>\n<p>5 rows × 42 columns</p>\n</div>"
     },
     "execution_count": 15,
     "metadata": {},
     "output_type": "execute_result"
    }
   ],
   "source": [
    "import pandas as pd\n",
    "\n",
    "data = pd.read_csv('data/telco.csv')\n",
    "data.head()"
   ]
  },
  {
   "cell_type": "code",
   "execution_count": 16,
   "outputs": [
    {
     "name": "stdout",
     "output_type": "stream",
     "text": [
      "<class 'pandas.core.frame.DataFrame'>\n",
      "RangeIndex: 1000 entries, 0 to 999\n",
      "Data columns (total 42 columns):\n",
      " #   Column    Non-Null Count  Dtype  \n",
      "---  ------    --------------  -----  \n",
      " 0   region    1000 non-null   int64  \n",
      " 1   tenure    1000 non-null   int64  \n",
      " 2   age       1000 non-null   int64  \n",
      " 3   marital   1000 non-null   int64  \n",
      " 4   address   1000 non-null   int64  \n",
      " 5   income    1000 non-null   float64\n",
      " 6   ed        1000 non-null   int64  \n",
      " 7   employ    1000 non-null   int64  \n",
      " 8   retire    1000 non-null   float64\n",
      " 9   gender    1000 non-null   int64  \n",
      " 10  reside    1000 non-null   int64  \n",
      " 11  tollfree  1000 non-null   int64  \n",
      " 12  equip     1000 non-null   int64  \n",
      " 13  callcard  1000 non-null   int64  \n",
      " 14  wireless  1000 non-null   int64  \n",
      " 15  longmon   1000 non-null   float64\n",
      " 16  tollmon   1000 non-null   float64\n",
      " 17  equipmon  1000 non-null   float64\n",
      " 18  cardmon   1000 non-null   float64\n",
      " 19  wiremon   1000 non-null   float64\n",
      " 20  longten   1000 non-null   float64\n",
      " 21  tollten   1000 non-null   float64\n",
      " 22  equipten  1000 non-null   float64\n",
      " 23  cardten   1000 non-null   float64\n",
      " 24  wireten   1000 non-null   float64\n",
      " 25  multline  1000 non-null   int64  \n",
      " 26  voice     1000 non-null   int64  \n",
      " 27  pager     1000 non-null   int64  \n",
      " 28  internet  1000 non-null   int64  \n",
      " 29  callid    1000 non-null   int64  \n",
      " 30  callwait  1000 non-null   int64  \n",
      " 31  forward   1000 non-null   int64  \n",
      " 32  confer    1000 non-null   int64  \n",
      " 33  ebill     1000 non-null   int64  \n",
      " 34  loglong   1000 non-null   float64\n",
      " 35  logtoll   475 non-null    float64\n",
      " 36  logequi   386 non-null    float64\n",
      " 37  logcard   678 non-null    float64\n",
      " 38  logwire   296 non-null    float64\n",
      " 39  lninc     1000 non-null   float64\n",
      " 40  custcat   1000 non-null   int64  \n",
      " 41  churn     1000 non-null   int64  \n",
      "dtypes: float64(18), int64(24)\n",
      "memory usage: 328.2 KB\n"
     ]
    }
   ],
   "source": [
    "data.info()"
   ],
   "metadata": {
    "collapsed": false,
    "pycharm": {
     "name": "#%%\n"
    }
   }
  },
  {
   "cell_type": "code",
   "execution_count": 17,
   "outputs": [
    {
     "data": {
      "text/plain": "          region       tenure          age      marital      address  \\\ncount  1000.0000  1000.000000  1000.000000  1000.000000  1000.000000   \nmean      2.0220    35.526000    41.684000     0.495000    11.551000   \nstd       0.8162    21.359812    12.558816     0.500225    10.086681   \nmin       1.0000     1.000000    18.000000     0.000000     0.000000   \n25%       1.0000    17.000000    32.000000     0.000000     3.000000   \n50%       2.0000    34.000000    40.000000     0.000000     9.000000   \n75%       3.0000    54.000000    51.000000     1.000000    18.000000   \nmax       3.0000    72.000000    77.000000     1.000000    55.000000   \n\n            income           ed       employ       retire       gender  ...  \\\ncount  1000.000000  1000.000000  1000.000000  1000.000000  1000.000000  ...   \nmean     77.535000     2.671000    10.987000     0.047000     0.517000  ...   \nstd     107.044165     1.222397    10.082087     0.211745     0.499961  ...   \nmin       9.000000     1.000000     0.000000     0.000000     0.000000  ...   \n25%      29.000000     2.000000     3.000000     0.000000     0.000000  ...   \n50%      47.000000     3.000000     8.000000     0.000000     1.000000  ...   \n75%      83.000000     4.000000    17.000000     0.000000     1.000000  ...   \nmax    1668.000000     5.000000    47.000000     1.000000     1.000000  ...   \n\n            confer        ebill      loglong     logtoll     logequi  \\\ncount  1000.000000  1000.000000  1000.000000  475.000000  386.000000   \nmean      0.502000     0.371000     2.182110    3.239705    3.568092   \nstd       0.500246     0.483314     0.734552    0.413813    0.277556   \nmin       0.000000     0.000000    -0.105361    1.749200    2.734368   \n25%       0.000000     0.000000     1.648659    2.970414    3.367726   \n50%       1.000000     0.000000     2.142999    3.208825    3.572344   \n75%       1.000000     1.000000     2.668095    3.488903    3.757414   \nmax       1.000000     1.000000     4.604670    5.153292    4.352855   \n\n          logcard     logwire        lninc      custcat        churn  \ncount  678.000000  296.000000  1000.000000  1000.000000  1000.000000  \nmean     2.854209    3.598296     3.957203     2.487000     0.274000  \nstd      0.557286    0.367286     0.803754     1.120306     0.446232  \nmin      1.011601    2.701361     2.197225     1.000000     0.000000  \n25%      2.463853    3.333543     3.367296     1.000000     0.000000  \n50%      2.847812    3.594569     3.850148     3.000000     0.000000  \n75%      3.208825    3.861780     4.418841     3.000000     1.000000  \nmax      4.693639    4.718052     7.419381     4.000000     1.000000  \n\n[8 rows x 42 columns]",
      "text/html": "<div>\n<style scoped>\n    .dataframe tbody tr th:only-of-type {\n        vertical-align: middle;\n    }\n\n    .dataframe tbody tr th {\n        vertical-align: top;\n    }\n\n    .dataframe thead th {\n        text-align: right;\n    }\n</style>\n<table border=\"1\" class=\"dataframe\">\n  <thead>\n    <tr style=\"text-align: right;\">\n      <th></th>\n      <th>region</th>\n      <th>tenure</th>\n      <th>age</th>\n      <th>marital</th>\n      <th>address</th>\n      <th>income</th>\n      <th>ed</th>\n      <th>employ</th>\n      <th>retire</th>\n      <th>gender</th>\n      <th>...</th>\n      <th>confer</th>\n      <th>ebill</th>\n      <th>loglong</th>\n      <th>logtoll</th>\n      <th>logequi</th>\n      <th>logcard</th>\n      <th>logwire</th>\n      <th>lninc</th>\n      <th>custcat</th>\n      <th>churn</th>\n    </tr>\n  </thead>\n  <tbody>\n    <tr>\n      <th>count</th>\n      <td>1000.0000</td>\n      <td>1000.000000</td>\n      <td>1000.000000</td>\n      <td>1000.000000</td>\n      <td>1000.000000</td>\n      <td>1000.000000</td>\n      <td>1000.000000</td>\n      <td>1000.000000</td>\n      <td>1000.000000</td>\n      <td>1000.000000</td>\n      <td>...</td>\n      <td>1000.000000</td>\n      <td>1000.000000</td>\n      <td>1000.000000</td>\n      <td>475.000000</td>\n      <td>386.000000</td>\n      <td>678.000000</td>\n      <td>296.000000</td>\n      <td>1000.000000</td>\n      <td>1000.000000</td>\n      <td>1000.000000</td>\n    </tr>\n    <tr>\n      <th>mean</th>\n      <td>2.0220</td>\n      <td>35.526000</td>\n      <td>41.684000</td>\n      <td>0.495000</td>\n      <td>11.551000</td>\n      <td>77.535000</td>\n      <td>2.671000</td>\n      <td>10.987000</td>\n      <td>0.047000</td>\n      <td>0.517000</td>\n      <td>...</td>\n      <td>0.502000</td>\n      <td>0.371000</td>\n      <td>2.182110</td>\n      <td>3.239705</td>\n      <td>3.568092</td>\n      <td>2.854209</td>\n      <td>3.598296</td>\n      <td>3.957203</td>\n      <td>2.487000</td>\n      <td>0.274000</td>\n    </tr>\n    <tr>\n      <th>std</th>\n      <td>0.8162</td>\n      <td>21.359812</td>\n      <td>12.558816</td>\n      <td>0.500225</td>\n      <td>10.086681</td>\n      <td>107.044165</td>\n      <td>1.222397</td>\n      <td>10.082087</td>\n      <td>0.211745</td>\n      <td>0.499961</td>\n      <td>...</td>\n      <td>0.500246</td>\n      <td>0.483314</td>\n      <td>0.734552</td>\n      <td>0.413813</td>\n      <td>0.277556</td>\n      <td>0.557286</td>\n      <td>0.367286</td>\n      <td>0.803754</td>\n      <td>1.120306</td>\n      <td>0.446232</td>\n    </tr>\n    <tr>\n      <th>min</th>\n      <td>1.0000</td>\n      <td>1.000000</td>\n      <td>18.000000</td>\n      <td>0.000000</td>\n      <td>0.000000</td>\n      <td>9.000000</td>\n      <td>1.000000</td>\n      <td>0.000000</td>\n      <td>0.000000</td>\n      <td>0.000000</td>\n      <td>...</td>\n      <td>0.000000</td>\n      <td>0.000000</td>\n      <td>-0.105361</td>\n      <td>1.749200</td>\n      <td>2.734368</td>\n      <td>1.011601</td>\n      <td>2.701361</td>\n      <td>2.197225</td>\n      <td>1.000000</td>\n      <td>0.000000</td>\n    </tr>\n    <tr>\n      <th>25%</th>\n      <td>1.0000</td>\n      <td>17.000000</td>\n      <td>32.000000</td>\n      <td>0.000000</td>\n      <td>3.000000</td>\n      <td>29.000000</td>\n      <td>2.000000</td>\n      <td>3.000000</td>\n      <td>0.000000</td>\n      <td>0.000000</td>\n      <td>...</td>\n      <td>0.000000</td>\n      <td>0.000000</td>\n      <td>1.648659</td>\n      <td>2.970414</td>\n      <td>3.367726</td>\n      <td>2.463853</td>\n      <td>3.333543</td>\n      <td>3.367296</td>\n      <td>1.000000</td>\n      <td>0.000000</td>\n    </tr>\n    <tr>\n      <th>50%</th>\n      <td>2.0000</td>\n      <td>34.000000</td>\n      <td>40.000000</td>\n      <td>0.000000</td>\n      <td>9.000000</td>\n      <td>47.000000</td>\n      <td>3.000000</td>\n      <td>8.000000</td>\n      <td>0.000000</td>\n      <td>1.000000</td>\n      <td>...</td>\n      <td>1.000000</td>\n      <td>0.000000</td>\n      <td>2.142999</td>\n      <td>3.208825</td>\n      <td>3.572344</td>\n      <td>2.847812</td>\n      <td>3.594569</td>\n      <td>3.850148</td>\n      <td>3.000000</td>\n      <td>0.000000</td>\n    </tr>\n    <tr>\n      <th>75%</th>\n      <td>3.0000</td>\n      <td>54.000000</td>\n      <td>51.000000</td>\n      <td>1.000000</td>\n      <td>18.000000</td>\n      <td>83.000000</td>\n      <td>4.000000</td>\n      <td>17.000000</td>\n      <td>0.000000</td>\n      <td>1.000000</td>\n      <td>...</td>\n      <td>1.000000</td>\n      <td>1.000000</td>\n      <td>2.668095</td>\n      <td>3.488903</td>\n      <td>3.757414</td>\n      <td>3.208825</td>\n      <td>3.861780</td>\n      <td>4.418841</td>\n      <td>3.000000</td>\n      <td>1.000000</td>\n    </tr>\n    <tr>\n      <th>max</th>\n      <td>3.0000</td>\n      <td>72.000000</td>\n      <td>77.000000</td>\n      <td>1.000000</td>\n      <td>55.000000</td>\n      <td>1668.000000</td>\n      <td>5.000000</td>\n      <td>47.000000</td>\n      <td>1.000000</td>\n      <td>1.000000</td>\n      <td>...</td>\n      <td>1.000000</td>\n      <td>1.000000</td>\n      <td>4.604670</td>\n      <td>5.153292</td>\n      <td>4.352855</td>\n      <td>4.693639</td>\n      <td>4.718052</td>\n      <td>7.419381</td>\n      <td>4.000000</td>\n      <td>1.000000</td>\n    </tr>\n  </tbody>\n</table>\n<p>8 rows × 42 columns</p>\n</div>"
     },
     "execution_count": 17,
     "metadata": {},
     "output_type": "execute_result"
    }
   ],
   "source": [
    "data.describe()\n",
    "# Logtoll, Logequi, Logcard, Logwire 存在数据缺失"
   ],
   "metadata": {
    "collapsed": false,
    "pycharm": {
     "name": "#%%\n"
    }
   }
  },
  {
   "cell_type": "code",
   "execution_count": 18,
   "outputs": [
    {
     "data": {
      "text/plain": "          region       tenure          age      marital      address  \\\ncount  1000.0000  1000.000000  1000.000000  1000.000000  1000.000000   \nmean      2.0220    35.526000    41.684000     0.495000    11.551000   \nstd       0.8162    21.359812    12.558816     0.500225    10.086681   \nmin       1.0000     1.000000    18.000000     0.000000     0.000000   \n25%       1.0000    17.000000    32.000000     0.000000     3.000000   \n50%       2.0000    34.000000    40.000000     0.000000     9.000000   \n75%       3.0000    54.000000    51.000000     1.000000    18.000000   \nmax       3.0000    72.000000    77.000000     1.000000    55.000000   \n\n            income           ed       employ       retire       gender  ...  \\\ncount  1000.000000  1000.000000  1000.000000  1000.000000  1000.000000  ...   \nmean     77.535000     2.671000    10.987000     0.047000     0.517000  ...   \nstd     107.044165     1.222397    10.082087     0.211745     0.499961  ...   \nmin       9.000000     1.000000     0.000000     0.000000     0.000000  ...   \n25%      29.000000     2.000000     3.000000     0.000000     0.000000  ...   \n50%      47.000000     3.000000     8.000000     0.000000     1.000000  ...   \n75%      83.000000     4.000000    17.000000     0.000000     1.000000  ...   \nmax    1668.000000     5.000000    47.000000     1.000000     1.000000  ...   \n\n            confer        ebill      loglong      logtoll      logequi  \\\ncount  1000.000000  1000.000000  1000.000000  1000.000000  1000.000000   \nmean      0.502000     0.371000     2.182110     3.223493     3.570703   \nstd       0.500246     0.483314     0.734552     0.285461     0.172318   \nmin       0.000000     0.000000    -0.105361     1.749200     2.734368   \n25%       0.000000     0.000000     1.648659     3.208825     3.572344   \n50%       1.000000     0.000000     2.142999     3.208825     3.572344   \n75%       1.000000     1.000000     2.668095     3.208825     3.572344   \nmax       1.000000     1.000000     4.604670     5.153292     4.352855   \n\n           logcard      logwire        lninc      custcat        churn  \ncount  1000.000000  1000.000000  1000.000000  1000.000000  1000.000000  \nmean      2.852149     3.595672     3.957203     2.487000     0.274000  \nstd       0.458774     0.199594     0.803754     1.120306     0.446232  \nmin       1.011601     2.701361     2.197225     1.000000     0.000000  \n25%       2.674149     3.594569     3.367296     1.000000     0.000000  \n50%       2.847812     3.594569     3.850148     3.000000     0.000000  \n75%       3.020425     3.594569     4.418841     3.000000     1.000000  \nmax       4.693639     4.718052     7.419381     4.000000     1.000000  \n\n[8 rows x 42 columns]",
      "text/html": "<div>\n<style scoped>\n    .dataframe tbody tr th:only-of-type {\n        vertical-align: middle;\n    }\n\n    .dataframe tbody tr th {\n        vertical-align: top;\n    }\n\n    .dataframe thead th {\n        text-align: right;\n    }\n</style>\n<table border=\"1\" class=\"dataframe\">\n  <thead>\n    <tr style=\"text-align: right;\">\n      <th></th>\n      <th>region</th>\n      <th>tenure</th>\n      <th>age</th>\n      <th>marital</th>\n      <th>address</th>\n      <th>income</th>\n      <th>ed</th>\n      <th>employ</th>\n      <th>retire</th>\n      <th>gender</th>\n      <th>...</th>\n      <th>confer</th>\n      <th>ebill</th>\n      <th>loglong</th>\n      <th>logtoll</th>\n      <th>logequi</th>\n      <th>logcard</th>\n      <th>logwire</th>\n      <th>lninc</th>\n      <th>custcat</th>\n      <th>churn</th>\n    </tr>\n  </thead>\n  <tbody>\n    <tr>\n      <th>count</th>\n      <td>1000.0000</td>\n      <td>1000.000000</td>\n      <td>1000.000000</td>\n      <td>1000.000000</td>\n      <td>1000.000000</td>\n      <td>1000.000000</td>\n      <td>1000.000000</td>\n      <td>1000.000000</td>\n      <td>1000.000000</td>\n      <td>1000.000000</td>\n      <td>...</td>\n      <td>1000.000000</td>\n      <td>1000.000000</td>\n      <td>1000.000000</td>\n      <td>1000.000000</td>\n      <td>1000.000000</td>\n      <td>1000.000000</td>\n      <td>1000.000000</td>\n      <td>1000.000000</td>\n      <td>1000.000000</td>\n      <td>1000.000000</td>\n    </tr>\n    <tr>\n      <th>mean</th>\n      <td>2.0220</td>\n      <td>35.526000</td>\n      <td>41.684000</td>\n      <td>0.495000</td>\n      <td>11.551000</td>\n      <td>77.535000</td>\n      <td>2.671000</td>\n      <td>10.987000</td>\n      <td>0.047000</td>\n      <td>0.517000</td>\n      <td>...</td>\n      <td>0.502000</td>\n      <td>0.371000</td>\n      <td>2.182110</td>\n      <td>3.223493</td>\n      <td>3.570703</td>\n      <td>2.852149</td>\n      <td>3.595672</td>\n      <td>3.957203</td>\n      <td>2.487000</td>\n      <td>0.274000</td>\n    </tr>\n    <tr>\n      <th>std</th>\n      <td>0.8162</td>\n      <td>21.359812</td>\n      <td>12.558816</td>\n      <td>0.500225</td>\n      <td>10.086681</td>\n      <td>107.044165</td>\n      <td>1.222397</td>\n      <td>10.082087</td>\n      <td>0.211745</td>\n      <td>0.499961</td>\n      <td>...</td>\n      <td>0.500246</td>\n      <td>0.483314</td>\n      <td>0.734552</td>\n      <td>0.285461</td>\n      <td>0.172318</td>\n      <td>0.458774</td>\n      <td>0.199594</td>\n      <td>0.803754</td>\n      <td>1.120306</td>\n      <td>0.446232</td>\n    </tr>\n    <tr>\n      <th>min</th>\n      <td>1.0000</td>\n      <td>1.000000</td>\n      <td>18.000000</td>\n      <td>0.000000</td>\n      <td>0.000000</td>\n      <td>9.000000</td>\n      <td>1.000000</td>\n      <td>0.000000</td>\n      <td>0.000000</td>\n      <td>0.000000</td>\n      <td>...</td>\n      <td>0.000000</td>\n      <td>0.000000</td>\n      <td>-0.105361</td>\n      <td>1.749200</td>\n      <td>2.734368</td>\n      <td>1.011601</td>\n      <td>2.701361</td>\n      <td>2.197225</td>\n      <td>1.000000</td>\n      <td>0.000000</td>\n    </tr>\n    <tr>\n      <th>25%</th>\n      <td>1.0000</td>\n      <td>17.000000</td>\n      <td>32.000000</td>\n      <td>0.000000</td>\n      <td>3.000000</td>\n      <td>29.000000</td>\n      <td>2.000000</td>\n      <td>3.000000</td>\n      <td>0.000000</td>\n      <td>0.000000</td>\n      <td>...</td>\n      <td>0.000000</td>\n      <td>0.000000</td>\n      <td>1.648659</td>\n      <td>3.208825</td>\n      <td>3.572344</td>\n      <td>2.674149</td>\n      <td>3.594569</td>\n      <td>3.367296</td>\n      <td>1.000000</td>\n      <td>0.000000</td>\n    </tr>\n    <tr>\n      <th>50%</th>\n      <td>2.0000</td>\n      <td>34.000000</td>\n      <td>40.000000</td>\n      <td>0.000000</td>\n      <td>9.000000</td>\n      <td>47.000000</td>\n      <td>3.000000</td>\n      <td>8.000000</td>\n      <td>0.000000</td>\n      <td>1.000000</td>\n      <td>...</td>\n      <td>1.000000</td>\n      <td>0.000000</td>\n      <td>2.142999</td>\n      <td>3.208825</td>\n      <td>3.572344</td>\n      <td>2.847812</td>\n      <td>3.594569</td>\n      <td>3.850148</td>\n      <td>3.000000</td>\n      <td>0.000000</td>\n    </tr>\n    <tr>\n      <th>75%</th>\n      <td>3.0000</td>\n      <td>54.000000</td>\n      <td>51.000000</td>\n      <td>1.000000</td>\n      <td>18.000000</td>\n      <td>83.000000</td>\n      <td>4.000000</td>\n      <td>17.000000</td>\n      <td>0.000000</td>\n      <td>1.000000</td>\n      <td>...</td>\n      <td>1.000000</td>\n      <td>1.000000</td>\n      <td>2.668095</td>\n      <td>3.208825</td>\n      <td>3.572344</td>\n      <td>3.020425</td>\n      <td>3.594569</td>\n      <td>4.418841</td>\n      <td>3.000000</td>\n      <td>1.000000</td>\n    </tr>\n    <tr>\n      <th>max</th>\n      <td>3.0000</td>\n      <td>72.000000</td>\n      <td>77.000000</td>\n      <td>1.000000</td>\n      <td>55.000000</td>\n      <td>1668.000000</td>\n      <td>5.000000</td>\n      <td>47.000000</td>\n      <td>1.000000</td>\n      <td>1.000000</td>\n      <td>...</td>\n      <td>1.000000</td>\n      <td>1.000000</td>\n      <td>4.604670</td>\n      <td>5.153292</td>\n      <td>4.352855</td>\n      <td>4.693639</td>\n      <td>4.718052</td>\n      <td>7.419381</td>\n      <td>4.000000</td>\n      <td>1.000000</td>\n    </tr>\n  </tbody>\n</table>\n<p>8 rows × 42 columns</p>\n</div>"
     },
     "execution_count": 18,
     "metadata": {},
     "output_type": "execute_result"
    }
   ],
   "source": [
    "telco = data.copy()\n",
    "\n",
    "# 使用中位数填充\n",
    "for field in ['logtoll', 'logequi', 'logcard', 'logwire']:\n",
    "    median = telco[field].median()\n",
    "    telco[field].fillna(median, inplace=True)\n",
    "telco.describe()"
   ],
   "metadata": {
    "collapsed": false,
    "pycharm": {
     "name": "#%%\n"
    }
   }
  },
  {
   "cell_type": "code",
   "execution_count": 19,
   "outputs": [],
   "source": [
    "# 保存数据\n",
    "telco.to_csv('data/telcoPreprocess.csv', index=False)"
   ],
   "metadata": {
    "collapsed": false,
    "pycharm": {
     "name": "#%%\n"
    }
   }
  },
  {
   "cell_type": "code",
   "execution_count": 19,
   "outputs": [],
   "source": [],
   "metadata": {
    "collapsed": false,
    "pycharm": {
     "name": "#%%\n"
    }
   }
  }
 ],
 "metadata": {
  "kernelspec": {
   "display_name": "Python 3",
   "language": "python",
   "name": "python3"
  },
  "language_info": {
   "codemirror_mode": {
    "name": "ipython",
    "version": 2
   },
   "file_extension": ".py",
   "mimetype": "text/x-python",
   "name": "python",
   "nbconvert_exporter": "python",
   "pygments_lexer": "ipython2",
   "version": "2.7.6"
  }
 },
 "nbformat": 4,
 "nbformat_minor": 0
}