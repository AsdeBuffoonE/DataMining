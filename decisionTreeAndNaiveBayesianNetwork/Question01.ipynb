{
 "cells": [
  {
   "cell_type": "code",
   "execution_count": 23,
   "metadata": {
    "collapsed": true,
    "pycharm": {
     "name": "#%%\n"
    }
   },
   "outputs": [
    {
     "data": {
      "text/plain": "((14, 4), (14, 1))"
     },
     "execution_count": 23,
     "metadata": {},
     "output_type": "execute_result"
    }
   ],
   "source": [
    "import pandas as pd\n",
    "import numpy as np\n",
    "\n",
    "data = pd.read_csv('data/weather_nominal.csv')\n",
    "X = data.iloc[:, :4]\n",
    "y = data.iloc[:, 4:]\n",
    "X.shape, y.shape"
   ]
  },
  {
   "cell_type": "code",
   "execution_count": 24,
   "outputs": [],
   "source": [
    "class_count = y[y.columns[0]].value_counts()\n",
    "class_probability = class_count / len(y)\n",
    "\n",
    "probability = {}\n",
    "for _class in y[y.columns[0]].unique():\n",
    "    for col in X.columns:\n",
    "        sub_class_count = X[col][y[y.columns[0]] == _class].value_counts()\n",
    "        for attribute in sub_class_count.index:\n",
    "            probability[(col, attribute, _class)] = sub_class_count[attribute] / class_count[_class]"
   ],
   "metadata": {
    "collapsed": false,
    "pycharm": {
     "name": "#%%\n"
    }
   }
  },
  {
   "cell_type": "code",
   "execution_count": 38,
   "outputs": [
    {
     "name": "stdout",
     "output_type": "stream",
     "text": [
      "id: 0 \t真实值: no \t预测为: no\n",
      "id: 1 \t真实值: no \t预测为: no\n",
      "id: 2 \t真实值: yes \t预测为: yes\n",
      "id: 3 \t真实值: yes \t预测为: yes\n",
      "id: 4 \t真实值: yes \t预测为: yes\n",
      "id: 5 \t真实值: no \t预测为: yes\n",
      "id: 6 \t真实值: yes \t预测为: yes\n",
      "id: 7 \t真实值: no \t预测为: no\n",
      "id: 8 \t真实值: yes \t预测为: yes\n",
      "id: 9 \t真实值: yes \t预测为: yes\n",
      "id: 10 \t真实值: yes \t预测为: yes\n",
      "id: 11 \t真实值: yes \t预测为: yes\n",
      "id: 12 \t真实值: yes \t预测为: yes\n",
      "id: 13 \t真实值: no \t预测为: no\n"
     ]
    }
   ],
   "source": [
    "def pred(all_x_test):\n",
    "    for i in range(len(all_x_test)):\n",
    "        x_test = all_x_test.iloc[i]\n",
    "        res = []\n",
    "        for _class in y[y.columns[0]].unique():\n",
    "            p = class_probability[_class]\n",
    "            for col in X.columns:\n",
    "                if (col, x_test[col], _class) in probability.keys():\n",
    "                    p *= probability[(col, x_test[col], _class)]\n",
    "                else:\n",
    "                    p = 0\n",
    "            res.append(p)\n",
    "\n",
    "        print('id:', i, '\\t真实值:', y.iloc[i][0], '\\t预测为:', y[y.columns[0]].unique()[np.argmax(res)])\n",
    "\n",
    "pred(X)"
   ],
   "metadata": {
    "collapsed": false,
    "pycharm": {
     "name": "#%%\n"
    }
   }
  },
  {
   "cell_type": "code",
   "execution_count": null,
   "outputs": [],
   "source": [],
   "metadata": {
    "collapsed": false,
    "pycharm": {
     "name": "#%%\n"
    }
   }
  }
 ],
 "metadata": {
  "kernelspec": {
   "display_name": "Python 3",
   "language": "python",
   "name": "python3"
  },
  "language_info": {
   "codemirror_mode": {
    "name": "ipython",
    "version": 2
   },
   "file_extension": ".py",
   "mimetype": "text/x-python",
   "name": "python",
   "nbconvert_exporter": "python",
   "pygments_lexer": "ipython2",
   "version": "2.7.6"
  }
 },
 "nbformat": 4,
 "nbformat_minor": 0
}