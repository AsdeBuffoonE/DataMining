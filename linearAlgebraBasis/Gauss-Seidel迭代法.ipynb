{
 "cells": [
  {
   "cell_type": "code",
   "execution_count": 1,
   "metadata": {
    "collapsed": true,
    "pycharm": {
     "name": "#%%\n"
    }
   },
   "outputs": [],
   "source": [
    "import numpy as np\n",
    "\n",
    "A = np.array([[4, -1, 0, -1, 0, 0],\n",
    "              [-1, 4, -1, 0, -1, 0],\n",
    "              [0, -1, 4, -1, 0, -1],\n",
    "              [-1, 0, -1, 4, -1, 0],\n",
    "              [0, -1, 0, -1, 4, -1],\n",
    "              [0, 0, -1, 0, -1, 4]])\n",
    "b = np.array([0, 5, -2, 5, -2, 6])"
   ]
  },
  {
   "cell_type": "code",
   "execution_count": 29,
   "outputs": [],
   "source": [
    "def gauss_seidel(A, B, n):\n",
    "    X = np.full(n, 0.)\n",
    "    k = 0\n",
    "    while True:\n",
    "        tol = 0.\n",
    "        for i in range(n):\n",
    "            tem = 0.\n",
    "            for j in range(n):\n",
    "                if i != j:\n",
    "                    tem += A[i][j] * X[j]\n",
    "            x_i_old = X[i]\n",
    "            X[i] = (B[i] - tem) / A[i][i]\n",
    "            tol += abs(X[i] - x_i_old)\n",
    "        if tol / n < 1e-10:\n",
    "            break\n",
    "        # print(X)\n",
    "        k += 1\n",
    "        if k > 100:\n",
    "            print(\"迭代失败！（可能是函数不收敛）\")\n",
    "            return\n",
    "    return X"
   ],
   "metadata": {
    "collapsed": false,
    "pycharm": {
     "name": "#%%\n"
    }
   }
  },
  {
   "cell_type": "code",
   "execution_count": 30,
   "outputs": [
    {
     "name": "stdout",
     "output_type": "stream",
     "text": [
      "[1. 2. 1. 2. 1. 2.]\n"
     ]
    }
   ],
   "source": [
    "print(gauss_seidel(A, b, 6))"
   ],
   "metadata": {
    "collapsed": false,
    "pycharm": {
     "name": "#%%\n"
    }
   }
  },
  {
   "cell_type": "code",
   "execution_count": null,
   "outputs": [],
   "source": [],
   "metadata": {
    "collapsed": false,
    "pycharm": {
     "name": "#%%\n"
    }
   }
  }
 ],
 "metadata": {
  "kernelspec": {
   "display_name": "Python 3",
   "language": "python",
   "name": "python3"
  },
  "language_info": {
   "codemirror_mode": {
    "name": "ipython",
    "version": 2
   },
   "file_extension": ".py",
   "mimetype": "text/x-python",
   "name": "python",
   "nbconvert_exporter": "python",
   "pygments_lexer": "ipython2",
   "version": "2.7.6"
  }
 },
 "nbformat": 4,
 "nbformat_minor": 0
}