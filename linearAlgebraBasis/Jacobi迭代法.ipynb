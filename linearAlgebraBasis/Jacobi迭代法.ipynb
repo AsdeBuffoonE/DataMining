{
 "cells": [
  {
   "cell_type": "code",
   "execution_count": 22,
   "metadata": {
    "collapsed": true,
    "pycharm": {
     "name": "#%%\n"
    }
   },
   "outputs": [],
   "source": [
    "import numpy as np\n",
    "\n",
    "A = np.array([[4, -1, 0, -1, 0, 0],\n",
    "              [-1, 4, -1, 0, -1, 0],\n",
    "              [0, -1, 4, -1, 0, -1],\n",
    "              [-1, 0, -1, 4, -1, 0],\n",
    "              [0, -1, 0, -1, 4, -1],\n",
    "              [0, 0, -1, 0, -1, 4]])\n",
    "b = np.array([0, 5, -2, 5, -2, 6])"
   ]
  },
  {
   "cell_type": "code",
   "execution_count": 68,
   "outputs": [],
   "source": [
    "def jacobi(A, B, n):\n",
    "    X, Y, D = np.full(n, 0.), np.full(n, 0.), np.full(n, 0.)\n",
    "    k = 0\n",
    "    while True:\n",
    "        X = Y\n",
    "        for i in range(n):\n",
    "            tem = 0.\n",
    "            for j in range(n):\n",
    "                if i != j:\n",
    "                    tem += A[i][j] * X[j]\n",
    "            Y[i] = (B[i] - tem) / A[i][i]\n",
    "        # print(Y)\n",
    "        k += 1\n",
    "        if k > 1000:\n",
    "            print(\"迭代失败！（可能是函数不收敛）\")\n",
    "            return\n",
    "        for a in range(n):\n",
    "            D[a] = X[a] - Y[a]\n",
    "        if k > 30 and 0.00001 > np.max(D) > -0.00001:\n",
    "            return Y"
   ],
   "metadata": {
    "collapsed": false,
    "pycharm": {
     "name": "#%%\n"
    }
   }
  },
  {
   "cell_type": "code",
   "execution_count": 69,
   "outputs": [
    {
     "name": "stdout",
     "output_type": "stream",
     "text": [
      "[1. 2. 1. 2. 1. 2.]\n"
     ]
    }
   ],
   "source": [
    "print(jacobi(A, b, 6))"
   ],
   "metadata": {
    "collapsed": false,
    "pycharm": {
     "name": "#%%\n"
    }
   }
  },
  {
   "cell_type": "code",
   "execution_count": null,
   "outputs": [],
   "source": [],
   "metadata": {
    "collapsed": false,
    "pycharm": {
     "name": "#%%\n"
    }
   }
  }
 ],
 "metadata": {
  "kernelspec": {
   "display_name": "Python 3",
   "language": "python",
   "name": "python3"
  },
  "language_info": {
   "codemirror_mode": {
    "name": "ipython",
    "version": 2
   },
   "file_extension": ".py",
   "mimetype": "text/x-python",
   "name": "python",
   "nbconvert_exporter": "python",
   "pygments_lexer": "ipython2",
   "version": "2.7.6"
  }
 },
 "nbformat": 4,
 "nbformat_minor": 0
}