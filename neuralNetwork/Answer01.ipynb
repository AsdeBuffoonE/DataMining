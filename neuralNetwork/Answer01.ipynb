{
 "cells": [
  {
   "cell_type": "code",
   "execution_count": 8,
   "metadata": {
    "collapsed": true
   },
   "outputs": [
    {
     "data": {
      "text/plain": "((4999, 400), (4999, 1), (25, 401), (10, 26))"
     },
     "execution_count": 8,
     "metadata": {},
     "output_type": "execute_result"
    }
   ],
   "source": [
    "import pandas as pd\n",
    "import numpy as np\n",
    "\n",
    "x_data = pd.read_csv('data/X_data.csv').to_numpy()\n",
    "y_label = pd.read_csv('data/y_label.csv').to_numpy()\n",
    "theta1 = pd.read_csv('data/Theta1.csv', header=None).to_numpy()\n",
    "theta2 = pd.read_csv('data/Theta2.csv', header=None).to_numpy()\n",
    "\n",
    "x_data.shape, y_label.shape, theta1.shape, theta2.shape"
   ]
  },
  {
   "cell_type": "code",
   "execution_count": 9,
   "outputs": [],
   "source": [
    "def softmax(x):\n",
    "    m = np.max(x)\n",
    "    return np.exp(x - m) / np.sum(np.exp(x - m))  # 防止出现 overflow\n",
    "\n",
    "\n",
    "def feedforward(weights, x):\n",
    "    return softmax(np.dot(np.concatenate((x, np.ones((x.shape[0], 1))), axis=1), weights.T))\n",
    "\n",
    "\n",
    "def score(x, y, theta1, theta2):\n",
    "    x_hidden_data = feedforward(theta1, x)\n",
    "    pred = feedforward(theta2, x_hidden_data)\n",
    "    s = 0.0\n",
    "    for i in range(pred.shape[0]):\n",
    "        if y[i] == np.argmax(pred[i]) + 1:\n",
    "            s += 1\n",
    "    return s / pred.shape[0]"
   ],
   "metadata": {
    "collapsed": false
   }
  },
  {
   "cell_type": "code",
   "execution_count": 10,
   "outputs": [
    {
     "data": {
      "text/plain": "('准确率:', 0.10002000400080016)"
     },
     "execution_count": 10,
     "metadata": {},
     "output_type": "execute_result"
    }
   ],
   "source": [
    "\"准确率:\", score(x_data, y_label, theta1, theta2)"
   ],
   "metadata": {
    "collapsed": false
   }
  },
  {
   "cell_type": "code",
   "execution_count": null,
   "outputs": [],
   "source": [],
   "metadata": {
    "collapsed": false
   }
  }
 ],
 "metadata": {
  "kernelspec": {
   "display_name": "Python 3",
   "language": "python",
   "name": "python3"
  },
  "language_info": {
   "codemirror_mode": {
    "name": "ipython",
    "version": 2
   },
   "file_extension": ".py",
   "mimetype": "text/x-python",
   "name": "python",
   "nbconvert_exporter": "python",
   "pygments_lexer": "ipython2",
   "version": "2.7.6"
  }
 },
 "nbformat": 4,
 "nbformat_minor": 0
}
