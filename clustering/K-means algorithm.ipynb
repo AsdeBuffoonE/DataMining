{
 "cells": [
  {
   "cell_type": "code",
   "execution_count": 44,
   "metadata": {
    "collapsed": true
   },
   "outputs": [
    {
     "data": {
      "text/plain": "   Age Sex      BP Cholesterol        Na         K   Drug\n0   23   F    HIGH        HIGH  0.792535  0.031258  drugY\n1   47   M     LOW        HIGH  0.739309  0.056468  drugC\n2   47   M     LOW        HIGH  0.697269  0.068944  drugC\n3   28   F  NORMAL        HIGH  0.563682  0.072289  drugX\n4   61   F     LOW        HIGH  0.559294  0.030998  drugY",
      "text/html": "<div>\n<style scoped>\n    .dataframe tbody tr th:only-of-type {\n        vertical-align: middle;\n    }\n\n    .dataframe tbody tr th {\n        vertical-align: top;\n    }\n\n    .dataframe thead th {\n        text-align: right;\n    }\n</style>\n<table border=\"1\" class=\"dataframe\">\n  <thead>\n    <tr style=\"text-align: right;\">\n      <th></th>\n      <th>Age</th>\n      <th>Sex</th>\n      <th>BP</th>\n      <th>Cholesterol</th>\n      <th>Na</th>\n      <th>K</th>\n      <th>Drug</th>\n    </tr>\n  </thead>\n  <tbody>\n    <tr>\n      <th>0</th>\n      <td>23</td>\n      <td>F</td>\n      <td>HIGH</td>\n      <td>HIGH</td>\n      <td>0.792535</td>\n      <td>0.031258</td>\n      <td>drugY</td>\n    </tr>\n    <tr>\n      <th>1</th>\n      <td>47</td>\n      <td>M</td>\n      <td>LOW</td>\n      <td>HIGH</td>\n      <td>0.739309</td>\n      <td>0.056468</td>\n      <td>drugC</td>\n    </tr>\n    <tr>\n      <th>2</th>\n      <td>47</td>\n      <td>M</td>\n      <td>LOW</td>\n      <td>HIGH</td>\n      <td>0.697269</td>\n      <td>0.068944</td>\n      <td>drugC</td>\n    </tr>\n    <tr>\n      <th>3</th>\n      <td>28</td>\n      <td>F</td>\n      <td>NORMAL</td>\n      <td>HIGH</td>\n      <td>0.563682</td>\n      <td>0.072289</td>\n      <td>drugX</td>\n    </tr>\n    <tr>\n      <th>4</th>\n      <td>61</td>\n      <td>F</td>\n      <td>LOW</td>\n      <td>HIGH</td>\n      <td>0.559294</td>\n      <td>0.030998</td>\n      <td>drugY</td>\n    </tr>\n  </tbody>\n</table>\n</div>"
     },
     "execution_count": 44,
     "metadata": {},
     "output_type": "execute_result"
    }
   ],
   "source": [
    "import matplotlib.pyplot as plt\n",
    "import numpy as np\n",
    "import pandas as pd\n",
    "\n",
    "data = pd.read_csv('data/DRUG1n.csv')\n",
    "data.head(5)"
   ]
  },
  {
   "cell_type": "code",
   "execution_count": 45,
   "outputs": [
    {
     "data": {
      "text/plain": "   Age  Sex  BP  Cholesterol        Na         K  drugA  drugB  drugC  drugX  \\\n0   23    1   2            1  0.792535  0.031258      0      0      0      0   \n1   47    0   1            1  0.739309  0.056468      0      0      1      0   \n2   47    0   1            1  0.697269  0.068944      0      0      1      0   \n3   28    1   0            1  0.563682  0.072289      0      0      0      1   \n4   61    1   1            1  0.559294  0.030998      0      0      0      0   \n\n   drugY  \n0      1  \n1      0  \n2      0  \n3      0  \n4      1  ",
      "text/html": "<div>\n<style scoped>\n    .dataframe tbody tr th:only-of-type {\n        vertical-align: middle;\n    }\n\n    .dataframe tbody tr th {\n        vertical-align: top;\n    }\n\n    .dataframe thead th {\n        text-align: right;\n    }\n</style>\n<table border=\"1\" class=\"dataframe\">\n  <thead>\n    <tr style=\"text-align: right;\">\n      <th></th>\n      <th>Age</th>\n      <th>Sex</th>\n      <th>BP</th>\n      <th>Cholesterol</th>\n      <th>Na</th>\n      <th>K</th>\n      <th>drugA</th>\n      <th>drugB</th>\n      <th>drugC</th>\n      <th>drugX</th>\n      <th>drugY</th>\n    </tr>\n  </thead>\n  <tbody>\n    <tr>\n      <th>0</th>\n      <td>23</td>\n      <td>1</td>\n      <td>2</td>\n      <td>1</td>\n      <td>0.792535</td>\n      <td>0.031258</td>\n      <td>0</td>\n      <td>0</td>\n      <td>0</td>\n      <td>0</td>\n      <td>1</td>\n    </tr>\n    <tr>\n      <th>1</th>\n      <td>47</td>\n      <td>0</td>\n      <td>1</td>\n      <td>1</td>\n      <td>0.739309</td>\n      <td>0.056468</td>\n      <td>0</td>\n      <td>0</td>\n      <td>1</td>\n      <td>0</td>\n      <td>0</td>\n    </tr>\n    <tr>\n      <th>2</th>\n      <td>47</td>\n      <td>0</td>\n      <td>1</td>\n      <td>1</td>\n      <td>0.697269</td>\n      <td>0.068944</td>\n      <td>0</td>\n      <td>0</td>\n      <td>1</td>\n      <td>0</td>\n      <td>0</td>\n    </tr>\n    <tr>\n      <th>3</th>\n      <td>28</td>\n      <td>1</td>\n      <td>0</td>\n      <td>1</td>\n      <td>0.563682</td>\n      <td>0.072289</td>\n      <td>0</td>\n      <td>0</td>\n      <td>0</td>\n      <td>1</td>\n      <td>0</td>\n    </tr>\n    <tr>\n      <th>4</th>\n      <td>61</td>\n      <td>1</td>\n      <td>1</td>\n      <td>1</td>\n      <td>0.559294</td>\n      <td>0.030998</td>\n      <td>0</td>\n      <td>0</td>\n      <td>0</td>\n      <td>0</td>\n      <td>1</td>\n    </tr>\n  </tbody>\n</table>\n</div>"
     },
     "execution_count": 45,
     "metadata": {},
     "output_type": "execute_result"
    }
   ],
   "source": [
    "data_encode = data.copy()\n",
    "\n",
    "# 数值的映射\n",
    "p_class_map_sex = {label: idx for idx, label in enumerate(set(data['Sex']))}\n",
    "p_class_map_bp = {label: idx for idx, label in enumerate(set(data['BP']))}\n",
    "p_class_map_cholesterol = {label: idx for idx, label in enumerate(set(data['Cholesterol']))}\n",
    "data_encode['Sex'] = data['Sex'].map(p_class_map_sex)\n",
    "data_encode['BP'] = data['BP'].map(p_class_map_bp)\n",
    "data_encode['Cholesterol'] = data['Cholesterol'].map(p_class_map_cholesterol)\n",
    "\n",
    "# OneHot编码\n",
    "data_encode = data_encode.drop(['Drug'], axis=1)\n",
    "df = pd.get_dummies(data['Drug'], columns=np.unique(data['Drug'].values)).reset_index(drop=True)\n",
    "data_encode = pd.concat([data_encode, df], axis=1)\n",
    "data_encode.head(5)"
   ],
   "metadata": {
    "collapsed": false
   }
  },
  {
   "cell_type": "code",
   "execution_count": 46,
   "outputs": [],
   "source": [
    "# 计算两个向量的欧氏距离\n",
    "def distance_euclidean(vector_a, vector_b):\n",
    "    return np.sqrt(np.sum(np.power(vector_a - vector_b, 2)))\n",
    "\n",
    "\n",
    "# 构建k个初始簇质心\n",
    "def rand_centroids(data_set, k):\n",
    "    m = np.shape(data_set)[0]  # 总样本数\n",
    "    centroids_idx = set()  # 随机样本索引\n",
    "    while len(centroids_idx) < k:\n",
    "        rand_j = np.random.randint(m)\n",
    "        centroids_idx.add(rand_j)\n",
    "    centroids = data_set[list(centroids_idx)]  # 初始簇质心\n",
    "    return centroids\n",
    "\n",
    "\n",
    "# K-均值聚类方法\n",
    "def k_means(data_set, k):\n",
    "    m = np.shape(data_set)[0]  # 样本总数\n",
    "    cluster_result = np.mat(np.zeros((m, 2)))  # 簇分配结果矩阵\n",
    "    centroids = rand_centroids(data_set, k)  # 构建k个初始随机质心\n",
    "\n",
    "    cluster_changed = True  # 簇变化标志\n",
    "    while cluster_changed:\n",
    "        cluster_changed = False\n",
    "        for i in range(m):\n",
    "            min_dist = np.inf  # 样本点离最近质心的距离\n",
    "            min_idx = -1  # 样本的簇标记\n",
    "            for j in range(k):\n",
    "                dist_ij = distance_euclidean(centroids[j, :], data_set[i, :])  # 样本点I到质心J的距离\n",
    "                if dist_ij < min_dist:\n",
    "                    min_dist = dist_ij\n",
    "                    min_idx = j\n",
    "            if cluster_result[i, 0] != min_idx:\n",
    "                cluster_changed = True  # 样本点的簇标记发生变化\n",
    "            cluster_result[i, :] = min_idx, min_dist ** 2  # 簇分配结果矩阵的两列分别为簇标记和误差\n",
    "        for cent in range(k):  # 更新质心的位置\n",
    "            centroids[cent, :] = np.mean(data_set[np.nonzero(cluster_result[:, 0].A == cent)[0]], axis=0)\n",
    "    return centroids, cluster_result"
   ],
   "metadata": {
    "collapsed": false
   }
  },
  {
   "cell_type": "code",
   "execution_count": 61,
   "outputs": [
    {
     "name": "stdout",
     "output_type": "stream",
     "text": [
      "MSELoss:  4318.008082213563\n"
     ]
    },
    {
     "data": {
      "text/plain": "matrix([[ 3.        ,  2.77818562],\n        [ 1.        , 45.00781463],\n        [ 1.        , 45.00500551],\n        [ 3.        , 17.68148876],\n        [ 2.        , 42.30749513],\n        [ 3.        ,  7.11379946],\n        [ 2.        , 32.94484238],\n        [ 1.        ,  2.03033595],\n        [ 2.        , 31.41320861],\n        [ 1.        ,  7.51951347],\n        [ 1.        , 45.10605273],\n        [ 1.        , 42.85918754],\n        [ 1.        ,  7.58909331],\n        [ 0.        , 33.76219318],\n        [ 2.        , 23.01252181],\n        [ 3.        , 67.51203169],\n        [ 0.        ,  1.77225897],\n        [ 1.        ,  8.98670332],\n        [ 3.        ,  2.95878391],\n        [ 3.        , 63.63286187],\n        [ 2.        ,  7.02012113],\n        [ 0.        , 29.71756092],\n        [ 1.        , 44.16676789],\n        [ 2.        , 44.10542879],\n        [ 1.        , 56.03642297],\n        [ 3.        , 16.61413743],\n        [ 3.        , 48.94320386],\n        [ 2.        , 33.30881496],\n        [ 1.        ,  2.8965829 ],\n        [ 1.        , 21.91874532],\n        [ 3.        , 40.13212404],\n        [ 0.        , 34.981538  ],\n        [ 2.        , 32.29347517],\n        [ 0.        , 12.65716239],\n        [ 2.        ,  4.56575528],\n        [ 1.        , 33.62869936],\n        [ 3.        , 64.34603831],\n        [ 1.        ,  3.24640079],\n        [ 1.        ,  4.54000447],\n        [ 3.        , 85.90874704],\n        [ 0.        , 24.43505703],\n        [ 2.        , 14.33881087],\n        [ 2.        , 22.95825936],\n        [ 3.        ,  3.98447544],\n        [ 2.        , 23.17968807],\n        [ 0.        ,  7.8295154 ],\n        [ 1.        , 14.07361347],\n        [ 0.        ,  1.70330703],\n        [ 3.        ,  3.59990886],\n        [ 3.        , 15.91337915],\n        [ 2.        , 13.71893471],\n        [ 0.        ,  3.99417943],\n        [ 0.        , 40.152884  ],\n        [ 3.        ,  1.56302811],\n        [ 0.        ,  2.5941247 ],\n        [ 3.        ,  5.12578963],\n        [ 0.        , 12.99033539],\n        [ 1.        ,  1.89305913],\n        [ 2.        , 31.78147507],\n        [ 1.        , 42.93828993],\n        [ 1.        ,  6.73905995],\n        [ 3.        ,  2.25709992],\n        [ 0.        ,  2.37734052],\n        [ 1.        , 22.24460562],\n        [ 2.        , 31.86866381],\n        [ 0.        ,  2.21116468],\n        [ 3.        , 26.01370827],\n        [ 3.        , 53.45871456],\n        [ 2.        ,  2.26687221],\n        [ 3.        , 39.02611446],\n        [ 0.        ,  5.20858481],\n        [ 3.        , 17.2790018 ],\n        [ 3.        ,  2.64347256],\n        [ 1.        ,  2.46756045],\n        [ 3.        , 49.01235493],\n        [ 3.        ,  4.53624942],\n        [ 1.        , 21.89837355],\n        [ 3.        ,  5.09550276],\n        [ 3.        , 28.35039711],\n        [ 3.        , 63.38988709],\n        [ 2.        , 31.85011941],\n        [ 0.        , 20.6963993 ],\n        [ 3.        , 63.66658082],\n        [ 1.        ,  8.13468173],\n        [ 1.        , 45.07869849],\n        [ 2.        , 21.98987568],\n        [ 2.        , 14.85762262],\n        [ 0.        ,  1.27316861],\n        [ 1.        , 13.3631053 ],\n        [ 2.        , 22.97712397],\n        [ 0.        , 41.25903257],\n        [ 1.        ,  1.95026699],\n        [ 3.        , 25.34737558],\n        [ 1.        ,  3.39346566],\n        [ 2.        ,  2.96934622],\n        [ 1.        , 20.77314381],\n        [ 2.        , 12.7383187 ],\n        [ 2.        ,  3.97870535],\n        [ 3.        , 18.63579645],\n        [ 3.        , 84.73342458],\n        [ 3.        , 49.5610455 ],\n        [ 1.        , 23.38559024],\n        [ 3.        , 16.63120338],\n        [ 2.        ,  4.15624547],\n        [ 3.        ,  6.17581056],\n        [ 1.        , 12.9178922 ],\n        [ 3.        ,  7.24045538],\n        [ 1.        ,  3.42829115],\n        [ 0.        , 16.09245417],\n        [ 3.        ,  3.58339426],\n        [ 2.        , 23.43775   ],\n        [ 1.        , 45.84705371],\n        [ 1.        , 30.58683859],\n        [ 0.        , 12.25920364],\n        [ 3.        , 19.64235783],\n        [ 2.        , 14.66242572],\n        [ 0.        ,  3.98140395],\n        [ 1.        ,  2.79618538],\n        [ 3.        , 64.217612  ],\n        [ 2.        , 43.29350475],\n        [ 3.        , 17.36646689],\n        [ 3.        , 84.84896473],\n        [ 1.        , 43.33811527],\n        [ 1.        , 21.72737576],\n        [ 2.        ,  4.99907568],\n        [ 3.        , 27.7707186 ],\n        [ 0.        ,  6.82755807],\n        [ 1.        , 31.82927621],\n        [ 1.        , 44.1782177 ],\n        [ 3.        , 64.71991394],\n        [ 0.        ,  5.0921811 ],\n        [ 2.        ,  7.68291665],\n        [ 2.        , 32.32285292],\n        [ 3.        ,  2.34613875],\n        [ 1.        ,  4.28107876],\n        [ 0.        , 33.98383001],\n        [ 2.        ,  2.54695989],\n        [ 1.        , 31.76776502],\n        [ 2.        , 15.26897312],\n        [ 0.        ,  3.14958552],\n        [ 2.        , 33.75866116],\n        [ 0.        , 19.34719443],\n        [ 2.        , 32.01814462],\n        [ 0.        , 34.3768924 ],\n        [ 1.        ,  4.33487409],\n        [ 2.        , 43.4684656 ],\n        [ 1.        , 12.9835566 ],\n        [ 3.        ,  5.67264146],\n        [ 2.        , 42.69112221],\n        [ 3.        ,  6.20931676],\n        [ 2.        , 33.74466162],\n        [ 0.        ,  2.322856  ],\n        [ 2.        ,  2.49989891],\n        [ 0.        , 15.37022439],\n        [ 1.        , 12.51600539],\n        [ 2.        , 32.58449964],\n        [ 3.        , 49.56456388],\n        [ 2.        ,  3.37358516],\n        [ 2.        , 21.232923  ],\n        [ 1.        , 42.498284  ],\n        [ 3.        , 37.21786105],\n        [ 2.        ,  8.44969952],\n        [ 1.        ,  9.13351403],\n        [ 3.        , 11.28837746],\n        [ 3.        , 67.61302417],\n        [ 1.        ,  6.79698621],\n        [ 2.        , 12.73824059],\n        [ 2.        ,  8.04364174],\n        [ 2.        , 13.87116736],\n        [ 3.        , 19.11716189],\n        [ 3.        , 17.66724425],\n        [ 1.        , 22.22419021],\n        [ 1.        ,  4.12993203],\n        [ 1.        ,  1.22735256],\n        [ 1.        ,  4.76338712],\n        [ 0.        , 24.20854275],\n        [ 2.        , 45.86338261],\n        [ 3.        ,  3.08519812],\n        [ 1.        ,  4.15489606],\n        [ 0.        ,  3.76116541],\n        [ 3.        ,  6.05956854],\n        [ 2.        , 21.79475444],\n        [ 3.        , 18.29960184],\n        [ 1.        , 21.19737375],\n        [ 3.        , 39.01254103],\n        [ 2.        ,  8.03552838],\n        [ 0.        ,  5.22375192],\n        [ 1.        , 45.65444627],\n        [ 0.        , 12.38750865],\n        [ 0.        , 19.92548947],\n        [ 2.        , 13.68658222],\n        [ 3.        ,  3.48285562],\n        [ 0.        , 14.62687029],\n        [ 0.        , 15.53353498],\n        [ 1.        , 32.92270713],\n        [ 2.        ,  3.66589212],\n        [ 3.        , 67.632652  ],\n        [ 2.        ,  8.72143256],\n        [ 3.        ,  4.01777251],\n        [ 1.        ,  1.45899565]])"
     },
     "execution_count": 61,
     "metadata": {},
     "output_type": "execute_result"
    }
   ],
   "source": [
    "my_centroids, my_cluster_result = k_means(data_encode.to_numpy(), 4)\n",
    "# 簇分配结果MSE\n",
    "print(\"MSELoss: \", np.sum(my_cluster_result, axis=0)[0, 1])\n",
    "# 簇分配结果\n",
    "my_cluster_result"
   ],
   "metadata": {
    "collapsed": false
   }
  },
  {
   "cell_type": "code",
   "execution_count": 62,
   "outputs": [
    {
     "data": {
      "text/plain": "array([[6.82777778e+01, 3.61111111e-01, 1.05555556e+00, 5.00000000e-01,\n        7.33597833e-01, 5.25318889e-02, 0.00000000e+00, 1.94444444e-01,\n        5.55555556e-02, 2.50000000e-01, 5.00000000e-01],\n       [4.04181818e+01, 4.72727273e-01, 1.10909091e+00, 4.54545455e-01,\n        6.80580091e-01, 4.82204545e-02, 1.63636364e-01, 0.00000000e+00,\n        9.09090909e-02, 2.72727273e-01, 4.72727273e-01],\n       [5.45686275e+01, 4.90196078e-01, 1.00000000e+00, 5.88235294e-01,\n        6.94590000e-01, 5.23292745e-02, 7.84313725e-02, 1.76470588e-01,\n        5.88235294e-02, 2.94117647e-01, 3.92156863e-01],\n       [2.41206897e+01, 5.51724138e-01, 1.17241379e+00, 5.17241379e-01,\n        6.92302190e-01, 4.86675000e-02, 1.72413793e-01, 0.00000000e+00,\n        1.03448276e-01, 2.58620690e-01, 4.65517241e-01]])"
     },
     "execution_count": 62,
     "metadata": {},
     "output_type": "execute_result"
    }
   ],
   "source": [
    "# 簇质心\n",
    "my_centroids"
   ],
   "metadata": {
    "collapsed": false
   }
  },
  {
   "cell_type": "code",
   "execution_count": 77,
   "outputs": [
    {
     "data": {
      "text/plain": "[<matplotlib.lines.Line2D at 0x14af03d60>]"
     },
     "execution_count": 77,
     "metadata": {},
     "output_type": "execute_result"
    },
    {
     "data": {
      "text/plain": "<Figure size 640x480 with 1 Axes>",
      "image/png": "[encoded data removed]"
     },
     "metadata": {},
     "output_type": "display_data"
    }
   ],
   "source": [
    "loss_list = []\n",
    "\n",
    "for k in range(4, 20, 1):\n",
    "    my_centroids, my_cluster_result = k_means(data_encode.to_numpy(), k)\n",
    "    loss = np.sum(my_cluster_result, axis=0)[0, 1]\n",
    "    loss_list.append(loss)\n",
    "\n",
    "plt.plot(range(4, 20, 1), loss_list)"
   ],
   "metadata": {
    "collapsed": false
   }
  },
  {
   "cell_type": "code",
   "execution_count": 78,
   "outputs": [
    {
     "name": "stdout",
     "output_type": "stream",
     "text": [
      "MSELoss:  938.4452166051441\n"
     ]
    },
    {
     "data": {
      "text/plain": "matrix([[ 8.        ,  2.11314519],\n        [ 4.        ,  2.77785988],\n        [ 4.        ,  2.77476461],\n        [ 0.        , 10.21944252],\n        [ 5.        ,  5.62881098],\n        [ 8.        ,  4.65261417],\n        [ 4.        ,  2.78646045],\n        [ 9.        ,  4.78603068],\n        [ 5.        ,  3.42013437],\n        [ 9.        ,  0.67533377],\n        [ 4.        ,  2.98816435],\n        [ 0.        , 12.00251562],\n        [ 9.        ,  0.77987603],\n        [ 2.        ,  6.32023125],\n        [ 4.        ,  5.37964094],\n        [ 3.        ,  3.65656406],\n        [ 2.        ,  8.70500961],\n        [ 9.        ,  2.15275848],\n        [ 8.        ,  1.67322836],\n        [ 0.        ,  3.04479602],\n        [ 5.        ,  4.37748753],\n        [ 6.        , 10.63678767],\n        [ 4.        ,  2.54199114],\n        [ 4.        ,  1.39556808],\n        [ 0.        ,  5.74878627],\n        [ 0.        ,  9.14103233],\n        [ 0.        ,  1.64426259],\n        [ 4.        ,  2.69149857],\n        [ 7.        ,  2.85300467],\n        [ 9.        ,  5.78325971],\n        [ 3.        ,  3.03141546],\n        [ 2.        ,  7.06708048],\n        [ 4.        ,  1.69386693],\n        [ 6.        ,  2.745286  ],\n        [ 1.        ,  1.98015081],\n        [ 4.        ,  6.79809866],\n        [ 0.        ,  3.90898077],\n        [ 7.        ,  3.10551729],\n        [ 7.        ,  4.12278882],\n        [ 3.        , 10.38980664],\n        [ 2.        ,  4.07638056],\n        [ 5.        ,  3.06854647],\n        [ 4.        ,  5.11236684],\n        [ 8.        ,  2.4816342 ],\n        [ 4.        ,  5.28041456],\n        [ 6.        ,  2.30442966],\n        [ 7.        ,  2.6960128 ],\n        [ 6.        ,  6.06829797],\n        [ 8.        ,  1.9573172 ],\n        [ 0.        ,  8.32965832],\n        [ 5.        ,  2.14691155],\n        [ 6.        ,  3.19378425],\n        [ 5.        , 11.57244369],\n        [ 8.        ,  2.29063857],\n        [ 6.        ,  6.73742171],\n        [ 8.        ,  7.84906853],\n        [ 6.        ,  3.18765658],\n        [ 7.        ,  7.9472675 ],\n        [ 5.        ,  4.34887393],\n        [ 0.        , 12.11889672],\n        [ 7.        ,  1.02375625],\n        [ 8.        ,  2.84151973],\n        [ 6.        ,  1.74320374],\n        [ 9.        ,  6.4234276 ],\n        [ 5.        ,  3.53450932],\n        [ 6.        ,  6.07700507],\n        [ 0.        ,  5.2464654 ],\n        [ 3.        ,  3.51292033],\n        [ 1.        ,  3.67587767],\n        [ 3.        ,  1.15378398],\n        [ 2.        ,  4.572126  ],\n        [ 0.        ,  9.74909201],\n        [ 8.        ,  2.66152806],\n        [ 9.        ,  5.4304828 ],\n        [ 0.        ,  1.87818053],\n        [ 8.        ,  7.11264904],\n        [ 7.        ,  4.85814768],\n        [ 8.        ,  8.30109907],\n        [ 3.        ,  4.04281675],\n        [ 0.        ,  2.922821  ],\n        [ 5.        ,  3.64640373],\n        [ 6.        ,  6.22580494],\n        [ 0.        ,  3.04362986],\n        [ 7.        ,  2.27475007],\n        [ 4.        ,  2.96055852],\n        [ 5.        ,  2.20389183],\n        [ 1.        ,  4.64584691],\n        [ 2.        ,  7.95606396],\n        [ 7.        ,  2.03760192],\n        [ 4.        ,  5.27808409],\n        [ 5.        , 12.30711329],\n        [ 9.        ,  4.27768005],\n        [ 0.        ,  4.42849461],\n        [ 9.        ,  1.53523325],\n        [ 5.        ,  8.499444  ],\n        [ 7.        ,  3.62000177],\n        [ 5.        ,  1.29699176],\n        [ 5.        ,  9.23312458],\n        [ 3.        ,  6.89246382],\n        [ 3.        ,  7.88677462],\n        [ 0.        ,  2.40171267],\n        [ 9.        ,  7.54394833],\n        [ 0.        ,  9.12310414],\n        [ 5.        , 10.16688055],\n        [ 8.        ,  4.12959873],\n        [ 7.        ,  1.43801063],\n        [ 8.        ,  4.49779406],\n        [ 9.        ,  1.28370932],\n        [ 2.        ,  2.19188637],\n        [ 8.        ,  1.95024023],\n        [ 4.        ,  5.71718045],\n        [ 4.        ,  3.54816054],\n        [ 7.        ,  7.77033977],\n        [ 6.        ,  2.18004621],\n        [ 3.        ,  8.52436348],\n        [ 1.        ,  4.50548258],\n        [ 6.        ,  3.1796899 ],\n        [ 7.        ,  8.20756186],\n        [ 0.        ,  3.60296509],\n        [ 5.        ,  6.46279785],\n        [ 0.        , 10.01458083],\n        [ 3.        ,  8.14903371],\n        [ 0.        , 12.89059533],\n        [ 7.        ,  4.77875794],\n        [ 1.        ,  2.98650337],\n        [ 3.        ,  2.88949853],\n        [ 6.        ,  1.97154761],\n        [ 7.        ,  8.9546904 ],\n        [ 4.        ,  2.55352975],\n        [ 0.        ,  4.14346444],\n        [ 2.        ,  5.19191432],\n        [ 1.        ,  1.31339853],\n        [ 4.        ,  1.71997395],\n        [ 8.        ,  1.94586365],\n        [ 9.        ,  2.29830753],\n        [ 2.        ,  6.81942981],\n        [ 1.        ,  8.48081113],\n        [ 7.        ,  9.06338056],\n        [ 1.        ,  5.00425494],\n        [ 2.        ,  9.9434367 ],\n        [ 4.        ,  3.05706716],\n        [ 6.        ,  4.6546553 ],\n        [ 5.        ,  4.05451803],\n        [ 2.        ,  7.07369843],\n        [ 7.        ,  4.52479459],\n        [ 5.        ,  7.38136923],\n        [ 7.        ,  1.29012635],\n        [ 8.        ,  9.02047732],\n        [ 5.        ,  6.56794046],\n        [ 8.        ,  3.68324901],\n        [ 4.        ,  3.04435683],\n        [ 6.        ,  6.85356315],\n        [ 1.        ,  7.84095036],\n        [ 2.        ,  1.8170487 ],\n        [ 7.        ,  1.35756361],\n        [ 4.        ,  1.94160108],\n        [ 0.        ,  2.40494639],\n        [ 1.        ,  0.98289862],\n        [ 5.        ,  1.5347853 ],\n        [ 0.        , 11.89888968],\n        [ 0.        ,  3.19887409],\n        [ 5.        ,  5.60393613],\n        [ 9.        ,  2.79634283],\n        [ 8.        ,  8.28920194],\n        [ 3.        ,  3.90450093],\n        [ 7.        ,  1.47220381],\n        [ 5.        ,  1.29690207],\n        [ 5.        ,  5.50682988],\n        [ 1.        ,  3.85280279],\n        [ 3.        ,  7.80043696],\n        [ 0.        , 10.20419147],\n        [ 9.        ,  6.40449013],\n        [ 7.        ,  4.04131849],\n        [ 9.        ,  4.03273581],\n        [ 9.        ,  2.56069395],\n        [ 2.        ,  3.32208652],\n        [ 4.        ,  2.44927044],\n        [ 8.        ,  3.9284685 ],\n        [ 7.        ,  4.43845969],\n        [ 6.        ,  3.29336009],\n        [ 8.        ,  4.29980558],\n        [ 5.        ,  2.40612938],\n        [ 3.        ,  6.77608689],\n        [ 7.        ,  4.19316756],\n        [ 3.        ,  1.54919549],\n        [ 5.        ,  5.40948025],\n        [ 2.        ,  4.58720517],\n        [ 4.        ,  3.95452096],\n        [ 6.        ,  2.53155506],\n        [ 6.        ,  5.40160552],\n        [ 5.        ,  2.23419886],\n        [ 8.        ,  2.68072699],\n        [ 2.        ,  0.85164329],\n        [ 2.        ,  1.61910921],\n        [ 4.        ,  7.36763469],\n        [ 5.        ,  9.21157479],\n        [ 3.        ,  4.8894054 ],\n        [ 1.        ,  2.16186419],\n        [ 8.        ,  2.6570625 ],\n        [ 7.        ,  6.7697499 ]])"
     },
     "execution_count": 78,
     "metadata": {},
     "output_type": "execute_result"
    }
   ],
   "source": [
    "# 取第一个拐点 k = 10\n",
    "my_centroids, my_cluster_result = k_means(data_encode.to_numpy(), 10)\n",
    "# 簇分配结果MSE\n",
    "print(\"MSELoss: \", np.sum(my_cluster_result, axis=0)[0, 1])\n",
    "# 簇分配结果\n",
    "my_cluster_result"
   ],
   "metadata": {
    "collapsed": false
   }
  },
  {
   "cell_type": "code",
   "execution_count": 79,
   "outputs": [
    {
     "data": {
      "text/plain": "array([[3.07600000e+01, 6.40000000e-01, 1.20000000e+00, 6.00000000e-01,\n        6.95020960e-01, 4.79456800e-02, 2.00000000e-01, 0.00000000e+00,\n        8.00000000e-02, 2.40000000e-01, 4.80000000e-01],\n       [5.25833333e+01, 3.33333333e-01, 9.16666667e-01, 5.83333333e-01,\n        6.76273083e-01, 4.70912500e-02, 0.00000000e+00, 2.50000000e-01,\n        0.00000000e+00, 3.33333333e-01, 4.16666667e-01],\n       [7.16875000e+01, 3.75000000e-01, 1.18750000e+00, 6.87500000e-01,\n        7.33669563e-01, 5.63841250e-02, 0.00000000e+00, 2.50000000e-01,\n        6.25000000e-02, 2.50000000e-01, 4.37500000e-01],\n       [1.76250000e+01, 6.25000000e-01, 1.37500000e+00, 3.12500000e-01,\n        6.93080313e-01, 4.80089375e-02, 1.25000000e-01, 0.00000000e+00,\n        6.25000000e-02, 3.12500000e-01, 5.00000000e-01],\n       [4.82083333e+01, 4.16666667e-01, 9.16666667e-01, 4.58333333e-01,\n        6.79691292e-01, 5.66935417e-02, 2.08333333e-01, 0.00000000e+00,\n        2.08333333e-01, 2.91666667e-01, 2.91666667e-01],\n       [5.87777778e+01, 5.55555556e-01, 1.07407407e+00, 7.03703704e-01,\n        7.21316852e-01, 5.00973704e-02, 0.00000000e+00, 2.22222222e-01,\n        7.40740741e-02, 2.22222222e-01, 4.81481481e-01],\n       [6.59444444e+01, 3.88888889e-01, 1.00000000e+00, 3.33333333e-01,\n        7.28375722e-01, 5.07703889e-02, 0.00000000e+00, 1.66666667e-01,\n        5.55555556e-02, 2.77777778e-01, 5.00000000e-01],\n       [3.75833333e+01, 5.83333333e-01, 1.08333333e+00, 3.75000000e-01,\n        6.60155750e-01, 4.98535833e-02, 2.08333333e-01, 0.00000000e+00,\n        0.00000000e+00, 3.75000000e-01, 4.16666667e-01],\n       [2.35000000e+01, 4.09090909e-01, 1.00000000e+00, 5.90909091e-01,\n        7.05960136e-01, 4.79339091e-02, 1.36363636e-01, 0.00000000e+00,\n        1.36363636e-01, 2.27272727e-01, 5.00000000e-01],\n       [4.27500000e+01, 3.12500000e-01, 1.18750000e+00, 4.37500000e-01,\n        6.76654687e-01, 4.51613750e-02, 1.87500000e-01, 0.00000000e+00,\n        6.25000000e-02, 1.87500000e-01, 5.62500000e-01]])"
     },
     "execution_count": 79,
     "metadata": {},
     "output_type": "execute_result"
    }
   ],
   "source": [
    "# 簇质心\n",
    "my_centroids"
   ],
   "metadata": {
    "collapsed": false
   }
  },
  {
   "cell_type": "code",
   "execution_count": null,
   "outputs": [],
   "source": [],
   "metadata": {
    "collapsed": false
   }
  }
 ],
 "metadata": {
  "kernelspec": {
   "display_name": "Python 3",
   "language": "python",
   "name": "python3"
  },
  "language_info": {
   "codemirror_mode": {
    "name": "ipython",
    "version": 2
   },
   "file_extension": ".py",
   "mimetype": "text/x-python",
   "name": "python",
   "nbconvert_exporter": "python",
   "pygments_lexer": "ipython2",
   "version": "2.7.6"
  }
 },
 "nbformat": 4,
 "nbformat_minor": 0
}
