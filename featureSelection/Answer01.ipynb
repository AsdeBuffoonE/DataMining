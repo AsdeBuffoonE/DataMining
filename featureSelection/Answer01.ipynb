{
 "cells": [
  {
   "cell_type": "code",
   "execution_count": 66,
   "metadata": {
    "collapsed": true
   },
   "outputs": [
    {
     "data": {
      "text/plain": "(1000, 21)"
     },
     "execution_count": 66,
     "metadata": {},
     "output_type": "execute_result"
    }
   ],
   "source": [
    "import numpy as np\n",
    "import pandas as pd\n",
    "\n",
    "data = pd.read_csv('data/german_clean.csv')\n",
    "data.shape"
   ]
  },
  {
   "cell_type": "code",
   "execution_count": 67,
   "outputs": [],
   "source": [
    "def get_data(dataset):\n",
    "    new_data = pd.DataFrame()\n",
    "    for one in dataset.columns[:-1]:\n",
    "        col = dataset[one]\n",
    "        if (str(list(col)[0]).split(\".\")[0]).isdigit() or str(list(col)[0]).isdigit() or \\\n",
    "                (str(list(col)[0]).split('-')[-1]).split(\".\")[-1].isdigit():\n",
    "            new_data[one] = dataset[one]\n",
    "        else:\n",
    "            keys = list(set(list(col)))\n",
    "            values = list(range(len(keys)))\n",
    "            new = dict(zip(keys, values))\n",
    "            new_data[one] = dataset[one].map(new)\n",
    "    new_data[dataset.columns[-1]] = dataset[dataset.columns[-1]]\n",
    "    return new_data\n",
    "\n",
    "\n",
    "def get_diff(dataset, i, j, mode=None):\n",
    "    ex_dataset = None\n",
    "    if mode == 'nh':\n",
    "        ex_dataset = dataset[dataset[:, -1] == dataset[i][-1]]\n",
    "    if mode == 'nm':\n",
    "        ex_dataset = dataset[dataset[:, -1] != dataset[i][-1]]\n",
    "\n",
    "    dist = np.inf\n",
    "    for k in range(len(ex_dataset)):\n",
    "        if k == i:\n",
    "            continue\n",
    "        sub = abs(float(ex_dataset[k][j]) - float(dataset[i][j]))\n",
    "        if sub < dist:\n",
    "            dist = sub\n",
    "    return dist\n",
    "\n",
    "\n",
    "def relief(dataset):\n",
    "    m, n = dataset.shape\n",
    "    r = []  # 相关统计量\n",
    "    for j in range(n - 1):\n",
    "        rj = 0\n",
    "        for i in range(m):\n",
    "            diff_nh = get_diff(dataset, i, j, mode='nh')\n",
    "            diff_nm = get_diff(dataset, i, j, mode='nm')\n",
    "            rj += -(diff_nh ** 2) + (diff_nm ** 2)\n",
    "        r.append(rj)\n",
    "\n",
    "    return r"
   ],
   "metadata": {
    "collapsed": false
   }
  },
  {
   "cell_type": "code",
   "execution_count": 68,
   "outputs": [
    {
     "data": {
      "text/plain": "array([[ 0., 12.,  3., ...,  0.,  1.,  1.],\n       [ 3., 45.,  1., ...,  1.,  1.,  2.],\n       [ 1., 12.,  4., ...,  1.,  1.,  1.],\n       ...,\n       [ 0., 24.,  1., ...,  0.,  1.,  1.],\n       [ 1., 18.,  1., ...,  1.,  1.,  1.],\n       [ 3., 36.,  1., ...,  0.,  1.,  2.]])"
     },
     "execution_count": 68,
     "metadata": {},
     "output_type": "execute_result"
    }
   ],
   "source": [
    "# 随机采样100次\n",
    "feature_list = data.keys()\n",
    "new_data = get_data(data)\n",
    "np.random.seed(64)\n",
    "arr_random = np.random.randint(0, 1000, 100)\n",
    "data_random = np.array([new_data.iloc[i, :].to_numpy() for i in arr_random])\n",
    "data_random"
   ],
   "metadata": {
    "collapsed": false
   }
  },
  {
   "cell_type": "code",
   "execution_count": 69,
   "outputs": [
    {
     "name": "stdout",
     "output_type": "stream",
     "text": [
      " 1  特征名:personal_status           重要性值:0.0\n",
      " 2  特征名:credit_history            重要性值:0.0\n",
      " 3  特征名:housing                   重要性值:0.0\n",
      " 4  特征名:other_payment_plans       重要性值:0.0\n",
      " 5  特征名:employment                重要性值:0.0\n",
      " 6  特征名:installment_commitment    重要性值:0.0\n",
      " 7  特征名:own_telephone             重要性值:0.0\n",
      " 8  特征名:other_parties             重要性值:0.0\n",
      " 9  特征名:residence_since           重要性值:0.0\n",
      "10  特征名:property_magnitude        重要性值:0.0\n",
      "11  特征名:credit_amount_new         重要性值:1.0\n",
      "12  特征名:savings_status            重要性值:1.0\n",
      "13  特征名:job                       重要性值:2.0\n",
      "14  特征名:foreign_worker            重要性值:2.0\n",
      "15  特征名:purpose                   重要性值:2.0\n",
      "16  特征名:existing_credits          重要性值:5.0\n",
      "17  特征名:checking_status           重要性值:38.0\n",
      "18  特征名:duration_new              重要性值:77.018644810116\n",
      "19  特征名:age                       重要性值:262.0\n",
      "20  特征名:credit_amount             重要性值:48473582.0\n"
     ]
    }
   ],
   "source": [
    "rf = np.array(relief(data_random))\n",
    "index = rf.argsort()\n",
    "\n",
    "rank = 1\n",
    "for i in index:\n",
    "    print(\"{:2d}  特征名:{:25} 重要性值:{}\".format(rank, np.array(data.keys()[i]), rf[i]))\n",
    "    rank += 1"
   ],
   "metadata": {
    "collapsed": false
   }
  },
  {
   "cell_type": "code",
   "execution_count": 69,
   "outputs": [],
   "source": [],
   "metadata": {
    "collapsed": false
   }
  }
 ],
 "metadata": {
  "kernelspec": {
   "display_name": "Python 3",
   "language": "python",
   "name": "python3"
  },
  "language_info": {
   "codemirror_mode": {
    "name": "ipython",
    "version": 2
   },
   "file_extension": ".py",
   "mimetype": "text/x-python",
   "name": "python",
   "nbconvert_exporter": "python",
   "pygments_lexer": "ipython2",
   "version": "2.7.6"
  }
 },
 "nbformat": 4,
 "nbformat_minor": 0
}
